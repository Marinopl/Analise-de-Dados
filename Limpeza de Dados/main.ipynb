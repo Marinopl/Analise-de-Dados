{
 "cells": [
  {
   "cell_type": "markdown",
   "id": "2d65b009",
   "metadata": {},
   "source": [
    "# Limpando os dados da base\n",
    "\n",
    "* Vamos realizar a limpeza de um dataset relacionado a uma base de clientes de um banco com o resultado do pagamento ou não de um empréstimo"
   ]
  },
  {
   "cell_type": "code",
   "execution_count": 1,
   "id": "e0ff7850",
   "metadata": {},
   "outputs": [],
   "source": [
    "import pandas as pd"
   ]
  },
  {
   "cell_type": "code",
   "execution_count": 2,
   "id": "b0a9f461",
   "metadata": {},
   "outputs": [],
   "source": [
    "base = pd.read_excel('ChavesClientes.xlsx', sheet_name='base')"
   ]
  },
  {
   "cell_type": "code",
   "execution_count": 3,
   "id": "5019e7d8",
   "metadata": {},
   "outputs": [
    {
     "data": {
      "text/html": [
       "<div>\n",
       "<style scoped>\n",
       "    .dataframe tbody tr th:only-of-type {\n",
       "        vertical-align: middle;\n",
       "    }\n",
       "\n",
       "    .dataframe tbody tr th {\n",
       "        vertical-align: top;\n",
       "    }\n",
       "\n",
       "    .dataframe thead th {\n",
       "        text-align: right;\n",
       "    }\n",
       "</style>\n",
       "<table border=\"1\" class=\"dataframe\">\n",
       "  <thead>\n",
       "    <tr style=\"text-align: right;\">\n",
       "      <th></th>\n",
       "      <th>ID</th>\n",
       "      <th>ChaveSituacao</th>\n",
       "      <th>ClassRisco</th>\n",
       "      <th>CatCliente</th>\n",
       "      <th>Pagamento</th>\n",
       "    </tr>\n",
       "  </thead>\n",
       "  <tbody>\n",
       "    <tr>\n",
       "      <th>0</th>\n",
       "      <td>1</td>\n",
       "      <td>32FC</td>\n",
       "      <td>Ccinza</td>\n",
       "      <td>Basic-Alpha</td>\n",
       "      <td>1</td>\n",
       "    </tr>\n",
       "    <tr>\n",
       "      <th>1</th>\n",
       "      <td>2</td>\n",
       "      <td>25MV</td>\n",
       "      <td>AAmarelo</td>\n",
       "      <td>Black</td>\n",
       "      <td>1</td>\n",
       "    </tr>\n",
       "    <tr>\n",
       "      <th>2</th>\n",
       "      <td>3</td>\n",
       "      <td>27MV</td>\n",
       "      <td>B-Amarelo</td>\n",
       "      <td>Basic-Beta</td>\n",
       "      <td>1</td>\n",
       "    </tr>\n",
       "    <tr>\n",
       "      <th>3</th>\n",
       "      <td>4</td>\n",
       "      <td>26FD</td>\n",
       "      <td>BAmarelo</td>\n",
       "      <td>Black</td>\n",
       "      <td>0</td>\n",
       "    </tr>\n",
       "    <tr>\n",
       "      <th>4</th>\n",
       "      <td>5</td>\n",
       "      <td>26FD</td>\n",
       "      <td>C-Amarelo</td>\n",
       "      <td>Black</td>\n",
       "      <td>0</td>\n",
       "    </tr>\n",
       "  </tbody>\n",
       "</table>\n",
       "</div>"
      ],
      "text/plain": [
       "   ID ChaveSituacao ClassRisco   CatCliente  Pagamento\n",
       "0   1          32FC     Ccinza  Basic-Alpha          1\n",
       "1   2          25MV   AAmarelo        Black          1\n",
       "2   3          27MV  B-Amarelo   Basic-Beta          1\n",
       "3   4          26FD   BAmarelo        Black          0\n",
       "4   5          26FD  C-Amarelo        Black          0"
      ]
     },
     "execution_count": 3,
     "metadata": {},
     "output_type": "execute_result"
    }
   ],
   "source": [
    "base.head()"
   ]
  },
  {
   "cell_type": "markdown",
   "id": "928d9994",
   "metadata": {},
   "source": [
    "* Verificando a cardinalidade dos dados\n",
    "\n",
    "* Cardinalidade: quantos valores diferentes existem no dataset"
   ]
  },
  {
   "cell_type": "code",
   "execution_count": 4,
   "id": "c14089a1",
   "metadata": {},
   "outputs": [
    {
     "data": {
      "text/plain": [
       "Pagamento  ChaveSituacao\n",
       "0          26FD             2\n",
       "           28FC             2\n",
       "           28MD             1\n",
       "           30FC             1\n",
       "           31MD             1\n",
       "1          25FD             1\n",
       "           25FV             1\n",
       "           25MV             1\n",
       "           26MC             2\n",
       "           27MC             1\n",
       "           27MD             2\n",
       "           27MV             1\n",
       "           28FS             1\n",
       "           29MV             1\n",
       "           31MV             1\n",
       "           32FC             1\n",
       "Name: Pagamento, dtype: int64"
      ]
     },
     "execution_count": 4,
     "metadata": {},
     "output_type": "execute_result"
    }
   ],
   "source": [
    "base.groupby(['Pagamento', 'ChaveSituacao'])['Pagamento'].count()"
   ]
  },
  {
   "cell_type": "markdown",
   "id": "e9245f53",
   "metadata": {},
   "source": [
    "## Análises do banco de dados\n",
    "\n",
    "* ChaveSituacao:\n",
    "    - Idade do cliente (a idade mínima para ser cliente é 18 anos)\n",
    "    - Gênero do cliente:\n",
    "        - M: Masculino\n",
    "        - F: Feminino\n",
    "    - Estado cívil do cliente:\n",
    "        - S: Solteiro\n",
    "        - C: Casado\n",
    "        - D: Divorciado\n",
    "        - V: Viúvo\n",
    "    \n",
    "* ClassRisco:\n",
    "    - Classificação do cliente (A, B, C) e indicador (+, - ou vazio)\n",
    "    - Cor do cliente de acordo com um modelo de *churn* interno da empresa\n",
    "\n",
    "* CatCliente:\n",
    "    - Categoria do cartão: qual o tipo de cartão do cliente\n",
    "        - Basic\n",
    "        - Black\n",
    "        - Platinum\n",
    "    - Categoria VIP (caso exista)\n",
    "        - Alpha\n",
    "        - Beta"
   ]
  },
  {
   "cell_type": "markdown",
   "id": "ff3b3d77",
   "metadata": {},
   "source": [
    "* Podemos começar analisando a ChaveSituacao, já que ela possui 3 informações dentro de uma mesma coluna"
   ]
  },
  {
   "cell_type": "code",
   "execution_count": 5,
   "id": "51ff6aa5",
   "metadata": {},
   "outputs": [],
   "source": [
    "texto = '32FC'"
   ]
  },
  {
   "cell_type": "code",
   "execution_count": 6,
   "id": "c1f9f81f",
   "metadata": {},
   "outputs": [
    {
     "data": {
      "text/plain": [
       "'F'"
      ]
     },
     "execution_count": 6,
     "metadata": {},
     "output_type": "execute_result"
    }
   ],
   "source": [
    "texto[-1] # Pega o último caractere da string\n",
    "\n",
    "texto[2:] # Pega do índice 2 até o final da string (sem incluir o índice 2)\n",
    "\n",
    "texto[: 2] # Pega do início da string até o índice 2 (sem incluir o índice 2)\n",
    "\n",
    "texto[2:3] # Pega do índice 2 até o índice 3 (sem incluir o índice 3)"
   ]
  },
  {
   "cell_type": "code",
   "execution_count": 7,
   "id": "a4fdd39f",
   "metadata": {},
   "outputs": [],
   "source": [
    "# Aqui, pegamos os dois priemeiros valores da string em ChaveSituacao e criamos a coluna Idade\n",
    "# Importante notar que, como a base é agora um dicionário, precisamos usar aspas simples para definir o nome da nova coluna\n",
    "\n",
    "base['Idade'] = base['ChaveSituacao'].str[: 2]"
   ]
  },
  {
   "cell_type": "code",
   "execution_count": 8,
   "id": "7ba97578",
   "metadata": {},
   "outputs": [
    {
     "data": {
      "text/html": [
       "<div>\n",
       "<style scoped>\n",
       "    .dataframe tbody tr th:only-of-type {\n",
       "        vertical-align: middle;\n",
       "    }\n",
       "\n",
       "    .dataframe tbody tr th {\n",
       "        vertical-align: top;\n",
       "    }\n",
       "\n",
       "    .dataframe thead th {\n",
       "        text-align: right;\n",
       "    }\n",
       "</style>\n",
       "<table border=\"1\" class=\"dataframe\">\n",
       "  <thead>\n",
       "    <tr style=\"text-align: right;\">\n",
       "      <th></th>\n",
       "      <th>ID</th>\n",
       "      <th>ChaveSituacao</th>\n",
       "      <th>ClassRisco</th>\n",
       "      <th>CatCliente</th>\n",
       "      <th>Pagamento</th>\n",
       "      <th>Idade</th>\n",
       "    </tr>\n",
       "  </thead>\n",
       "  <tbody>\n",
       "    <tr>\n",
       "      <th>0</th>\n",
       "      <td>1</td>\n",
       "      <td>32FC</td>\n",
       "      <td>Ccinza</td>\n",
       "      <td>Basic-Alpha</td>\n",
       "      <td>1</td>\n",
       "      <td>32</td>\n",
       "    </tr>\n",
       "    <tr>\n",
       "      <th>1</th>\n",
       "      <td>2</td>\n",
       "      <td>25MV</td>\n",
       "      <td>AAmarelo</td>\n",
       "      <td>Black</td>\n",
       "      <td>1</td>\n",
       "      <td>25</td>\n",
       "    </tr>\n",
       "    <tr>\n",
       "      <th>2</th>\n",
       "      <td>3</td>\n",
       "      <td>27MV</td>\n",
       "      <td>B-Amarelo</td>\n",
       "      <td>Basic-Beta</td>\n",
       "      <td>1</td>\n",
       "      <td>27</td>\n",
       "    </tr>\n",
       "    <tr>\n",
       "      <th>3</th>\n",
       "      <td>4</td>\n",
       "      <td>26FD</td>\n",
       "      <td>BAmarelo</td>\n",
       "      <td>Black</td>\n",
       "      <td>0</td>\n",
       "      <td>26</td>\n",
       "    </tr>\n",
       "    <tr>\n",
       "      <th>4</th>\n",
       "      <td>5</td>\n",
       "      <td>26FD</td>\n",
       "      <td>C-Amarelo</td>\n",
       "      <td>Black</td>\n",
       "      <td>0</td>\n",
       "      <td>26</td>\n",
       "    </tr>\n",
       "  </tbody>\n",
       "</table>\n",
       "</div>"
      ],
      "text/plain": [
       "   ID ChaveSituacao ClassRisco   CatCliente  Pagamento Idade\n",
       "0   1          32FC     Ccinza  Basic-Alpha          1    32\n",
       "1   2          25MV   AAmarelo        Black          1    25\n",
       "2   3          27MV  B-Amarelo   Basic-Beta          1    27\n",
       "3   4          26FD   BAmarelo        Black          0    26\n",
       "4   5          26FD  C-Amarelo        Black          0    26"
      ]
     },
     "execution_count": 8,
     "metadata": {},
     "output_type": "execute_result"
    }
   ],
   "source": [
    "base.head()"
   ]
  },
  {
   "cell_type": "code",
   "execution_count": 9,
   "id": "1b16c957",
   "metadata": {},
   "outputs": [],
   "source": [
    "# Aqui, pegamos o valor entre o índice 2 e o 3 (o 3 não entra) da string em ChaveSituacao e criamos a coluna Genero\n",
    "base['Genero'] = base['ChaveSituacao'].str[2:3]"
   ]
  },
  {
   "cell_type": "code",
   "execution_count": 10,
   "id": "accff60f",
   "metadata": {},
   "outputs": [
    {
     "data": {
      "text/html": [
       "<div>\n",
       "<style scoped>\n",
       "    .dataframe tbody tr th:only-of-type {\n",
       "        vertical-align: middle;\n",
       "    }\n",
       "\n",
       "    .dataframe tbody tr th {\n",
       "        vertical-align: top;\n",
       "    }\n",
       "\n",
       "    .dataframe thead th {\n",
       "        text-align: right;\n",
       "    }\n",
       "</style>\n",
       "<table border=\"1\" class=\"dataframe\">\n",
       "  <thead>\n",
       "    <tr style=\"text-align: right;\">\n",
       "      <th></th>\n",
       "      <th>ID</th>\n",
       "      <th>ChaveSituacao</th>\n",
       "      <th>ClassRisco</th>\n",
       "      <th>CatCliente</th>\n",
       "      <th>Pagamento</th>\n",
       "      <th>Idade</th>\n",
       "      <th>Genero</th>\n",
       "    </tr>\n",
       "  </thead>\n",
       "  <tbody>\n",
       "    <tr>\n",
       "      <th>0</th>\n",
       "      <td>1</td>\n",
       "      <td>32FC</td>\n",
       "      <td>Ccinza</td>\n",
       "      <td>Basic-Alpha</td>\n",
       "      <td>1</td>\n",
       "      <td>32</td>\n",
       "      <td>F</td>\n",
       "    </tr>\n",
       "    <tr>\n",
       "      <th>1</th>\n",
       "      <td>2</td>\n",
       "      <td>25MV</td>\n",
       "      <td>AAmarelo</td>\n",
       "      <td>Black</td>\n",
       "      <td>1</td>\n",
       "      <td>25</td>\n",
       "      <td>M</td>\n",
       "    </tr>\n",
       "    <tr>\n",
       "      <th>2</th>\n",
       "      <td>3</td>\n",
       "      <td>27MV</td>\n",
       "      <td>B-Amarelo</td>\n",
       "      <td>Basic-Beta</td>\n",
       "      <td>1</td>\n",
       "      <td>27</td>\n",
       "      <td>M</td>\n",
       "    </tr>\n",
       "    <tr>\n",
       "      <th>3</th>\n",
       "      <td>4</td>\n",
       "      <td>26FD</td>\n",
       "      <td>BAmarelo</td>\n",
       "      <td>Black</td>\n",
       "      <td>0</td>\n",
       "      <td>26</td>\n",
       "      <td>F</td>\n",
       "    </tr>\n",
       "    <tr>\n",
       "      <th>4</th>\n",
       "      <td>5</td>\n",
       "      <td>26FD</td>\n",
       "      <td>C-Amarelo</td>\n",
       "      <td>Black</td>\n",
       "      <td>0</td>\n",
       "      <td>26</td>\n",
       "      <td>F</td>\n",
       "    </tr>\n",
       "  </tbody>\n",
       "</table>\n",
       "</div>"
      ],
      "text/plain": [
       "   ID ChaveSituacao ClassRisco   CatCliente  Pagamento Idade Genero\n",
       "0   1          32FC     Ccinza  Basic-Alpha          1    32      F\n",
       "1   2          25MV   AAmarelo        Black          1    25      M\n",
       "2   3          27MV  B-Amarelo   Basic-Beta          1    27      M\n",
       "3   4          26FD   BAmarelo        Black          0    26      F\n",
       "4   5          26FD  C-Amarelo        Black          0    26      F"
      ]
     },
     "execution_count": 10,
     "metadata": {},
     "output_type": "execute_result"
    }
   ],
   "source": [
    "base.head()"
   ]
  },
  {
   "cell_type": "code",
   "execution_count": 11,
   "id": "f85b2ac1",
   "metadata": {},
   "outputs": [],
   "source": [
    "# Aqui, pegamos o último valor da string em ChaveSituacao e criamos a coluna EstadoCivil\n",
    "base['EstadoCivil'] = base['ChaveSituacao'].str[-1]"
   ]
  },
  {
   "cell_type": "code",
   "execution_count": 12,
   "id": "b89d01a6",
   "metadata": {},
   "outputs": [
    {
     "data": {
      "text/html": [
       "<div>\n",
       "<style scoped>\n",
       "    .dataframe tbody tr th:only-of-type {\n",
       "        vertical-align: middle;\n",
       "    }\n",
       "\n",
       "    .dataframe tbody tr th {\n",
       "        vertical-align: top;\n",
       "    }\n",
       "\n",
       "    .dataframe thead th {\n",
       "        text-align: right;\n",
       "    }\n",
       "</style>\n",
       "<table border=\"1\" class=\"dataframe\">\n",
       "  <thead>\n",
       "    <tr style=\"text-align: right;\">\n",
       "      <th></th>\n",
       "      <th>ID</th>\n",
       "      <th>ChaveSituacao</th>\n",
       "      <th>ClassRisco</th>\n",
       "      <th>CatCliente</th>\n",
       "      <th>Pagamento</th>\n",
       "      <th>Idade</th>\n",
       "      <th>Genero</th>\n",
       "      <th>EstadoCivil</th>\n",
       "    </tr>\n",
       "  </thead>\n",
       "  <tbody>\n",
       "    <tr>\n",
       "      <th>0</th>\n",
       "      <td>1</td>\n",
       "      <td>32FC</td>\n",
       "      <td>Ccinza</td>\n",
       "      <td>Basic-Alpha</td>\n",
       "      <td>1</td>\n",
       "      <td>32</td>\n",
       "      <td>F</td>\n",
       "      <td>C</td>\n",
       "    </tr>\n",
       "    <tr>\n",
       "      <th>1</th>\n",
       "      <td>2</td>\n",
       "      <td>25MV</td>\n",
       "      <td>AAmarelo</td>\n",
       "      <td>Black</td>\n",
       "      <td>1</td>\n",
       "      <td>25</td>\n",
       "      <td>M</td>\n",
       "      <td>V</td>\n",
       "    </tr>\n",
       "    <tr>\n",
       "      <th>2</th>\n",
       "      <td>3</td>\n",
       "      <td>27MV</td>\n",
       "      <td>B-Amarelo</td>\n",
       "      <td>Basic-Beta</td>\n",
       "      <td>1</td>\n",
       "      <td>27</td>\n",
       "      <td>M</td>\n",
       "      <td>V</td>\n",
       "    </tr>\n",
       "    <tr>\n",
       "      <th>3</th>\n",
       "      <td>4</td>\n",
       "      <td>26FD</td>\n",
       "      <td>BAmarelo</td>\n",
       "      <td>Black</td>\n",
       "      <td>0</td>\n",
       "      <td>26</td>\n",
       "      <td>F</td>\n",
       "      <td>D</td>\n",
       "    </tr>\n",
       "    <tr>\n",
       "      <th>4</th>\n",
       "      <td>5</td>\n",
       "      <td>26FD</td>\n",
       "      <td>C-Amarelo</td>\n",
       "      <td>Black</td>\n",
       "      <td>0</td>\n",
       "      <td>26</td>\n",
       "      <td>F</td>\n",
       "      <td>D</td>\n",
       "    </tr>\n",
       "  </tbody>\n",
       "</table>\n",
       "</div>"
      ],
      "text/plain": [
       "   ID ChaveSituacao ClassRisco   CatCliente  Pagamento Idade Genero  \\\n",
       "0   1          32FC     Ccinza  Basic-Alpha          1    32      F   \n",
       "1   2          25MV   AAmarelo        Black          1    25      M   \n",
       "2   3          27MV  B-Amarelo   Basic-Beta          1    27      M   \n",
       "3   4          26FD   BAmarelo        Black          0    26      F   \n",
       "4   5          26FD  C-Amarelo        Black          0    26      F   \n",
       "\n",
       "  EstadoCivil  \n",
       "0           C  \n",
       "1           V  \n",
       "2           V  \n",
       "3           D  \n",
       "4           D  "
      ]
     },
     "execution_count": 12,
     "metadata": {},
     "output_type": "execute_result"
    }
   ],
   "source": [
    "base.head()"
   ]
  },
  {
   "cell_type": "markdown",
   "id": "6197335d",
   "metadata": {},
   "source": [
    "* Podemos notar que, depois dessa análise, a cardinalidade diminui para algumas classificações"
   ]
  },
  {
   "cell_type": "code",
   "execution_count": 13,
   "id": "43881c79",
   "metadata": {},
   "outputs": [
    {
     "data": {
      "text/plain": [
       "Pagamento  EstadoCivil\n",
       "0          C              3\n",
       "           D              4\n",
       "1          C              4\n",
       "           D              3\n",
       "           S              1\n",
       "           V              5\n",
       "Name: Pagamento, dtype: int64"
      ]
     },
     "execution_count": 13,
     "metadata": {},
     "output_type": "execute_result"
    }
   ],
   "source": [
    "base.groupby(['Pagamento', 'EstadoCivil'])['Pagamento'].count()"
   ]
  },
  {
   "cell_type": "markdown",
   "id": "5ade2ada",
   "metadata": {},
   "source": [
    "* Como separar a CatCliente?"
   ]
  },
  {
   "cell_type": "code",
   "execution_count": 14,
   "id": "d5a90fc9",
   "metadata": {},
   "outputs": [],
   "source": [
    "texto = 'Basic-Alpha'"
   ]
  },
  {
   "cell_type": "code",
   "execution_count": 15,
   "id": "c06b3e1a",
   "metadata": {},
   "outputs": [
    {
     "data": {
      "text/plain": [
       "['Basic', 'Alpha']"
      ]
     },
     "execution_count": 15,
     "metadata": {},
     "output_type": "execute_result"
    }
   ],
   "source": [
    "texto.split('-')"
   ]
  },
  {
   "cell_type": "code",
   "execution_count": 16,
   "id": "95b022ac",
   "metadata": {},
   "outputs": [
    {
     "ename": "AttributeError",
     "evalue": "'Series' object has no attribute 'split'",
     "output_type": "error",
     "traceback": [
      "\u001b[31m---------------------------------------------------------------------------\u001b[39m",
      "\u001b[31mAttributeError\u001b[39m                            Traceback (most recent call last)",
      "\u001b[32m~\\AppData\\Local\\Temp\\ipykernel_6152\\3141286488.py\u001b[39m in \u001b[36m?\u001b[39m\u001b[34m()\u001b[39m\n\u001b[32m----> \u001b[39m\u001b[32m1\u001b[39m base[\u001b[33m'Categoria'\u001b[39m] = base[\u001b[33m'CatCliente'\u001b[39m].split(\u001b[33m'-'\u001b[39m)\n",
      "\u001b[32mc:\\Users\\Marino\\AppData\\Local\\Programs\\Python\\Python311\\Lib\\site-packages\\pandas\\core\\generic.py\u001b[39m in \u001b[36m?\u001b[39m\u001b[34m(self, name)\u001b[39m\n\u001b[32m   6314\u001b[39m             \u001b[38;5;28;01mand\u001b[39;00m name \u001b[38;5;28;01mnot\u001b[39;00m \u001b[38;5;28;01min\u001b[39;00m self._accessors\n\u001b[32m   6315\u001b[39m             \u001b[38;5;28;01mand\u001b[39;00m self._info_axis._can_hold_identifiers_and_holds_name(name)\n\u001b[32m   6316\u001b[39m         ):\n\u001b[32m   6317\u001b[39m             \u001b[38;5;28;01mreturn\u001b[39;00m self[name]\n\u001b[32m-> \u001b[39m\u001b[32m6318\u001b[39m         \u001b[38;5;28;01mreturn\u001b[39;00m object.__getattribute__(self, name)\n",
      "\u001b[31mAttributeError\u001b[39m: 'Series' object has no attribute 'split'"
     ]
    }
   ],
   "source": [
    "base['Categoria'] = base['CatCliente'].split('-')"
   ]
  },
  {
   "cell_type": "code",
   "execution_count": 17,
   "id": "fe227a7c",
   "metadata": {},
   "outputs": [],
   "source": [
    "base['Categoria'] = base['CatCliente'].str.split('-')"
   ]
  },
  {
   "cell_type": "code",
   "execution_count": 18,
   "id": "51c59dae",
   "metadata": {},
   "outputs": [
    {
     "data": {
      "text/html": [
       "<div>\n",
       "<style scoped>\n",
       "    .dataframe tbody tr th:only-of-type {\n",
       "        vertical-align: middle;\n",
       "    }\n",
       "\n",
       "    .dataframe tbody tr th {\n",
       "        vertical-align: top;\n",
       "    }\n",
       "\n",
       "    .dataframe thead th {\n",
       "        text-align: right;\n",
       "    }\n",
       "</style>\n",
       "<table border=\"1\" class=\"dataframe\">\n",
       "  <thead>\n",
       "    <tr style=\"text-align: right;\">\n",
       "      <th></th>\n",
       "      <th>ID</th>\n",
       "      <th>ChaveSituacao</th>\n",
       "      <th>ClassRisco</th>\n",
       "      <th>CatCliente</th>\n",
       "      <th>Pagamento</th>\n",
       "      <th>Idade</th>\n",
       "      <th>Genero</th>\n",
       "      <th>EstadoCivil</th>\n",
       "      <th>Categoria</th>\n",
       "    </tr>\n",
       "  </thead>\n",
       "  <tbody>\n",
       "    <tr>\n",
       "      <th>0</th>\n",
       "      <td>1</td>\n",
       "      <td>32FC</td>\n",
       "      <td>Ccinza</td>\n",
       "      <td>Basic-Alpha</td>\n",
       "      <td>1</td>\n",
       "      <td>32</td>\n",
       "      <td>F</td>\n",
       "      <td>C</td>\n",
       "      <td>[Basic, Alpha]</td>\n",
       "    </tr>\n",
       "    <tr>\n",
       "      <th>1</th>\n",
       "      <td>2</td>\n",
       "      <td>25MV</td>\n",
       "      <td>AAmarelo</td>\n",
       "      <td>Black</td>\n",
       "      <td>1</td>\n",
       "      <td>25</td>\n",
       "      <td>M</td>\n",
       "      <td>V</td>\n",
       "      <td>[Black]</td>\n",
       "    </tr>\n",
       "    <tr>\n",
       "      <th>2</th>\n",
       "      <td>3</td>\n",
       "      <td>27MV</td>\n",
       "      <td>B-Amarelo</td>\n",
       "      <td>Basic-Beta</td>\n",
       "      <td>1</td>\n",
       "      <td>27</td>\n",
       "      <td>M</td>\n",
       "      <td>V</td>\n",
       "      <td>[Basic, Beta]</td>\n",
       "    </tr>\n",
       "    <tr>\n",
       "      <th>3</th>\n",
       "      <td>4</td>\n",
       "      <td>26FD</td>\n",
       "      <td>BAmarelo</td>\n",
       "      <td>Black</td>\n",
       "      <td>0</td>\n",
       "      <td>26</td>\n",
       "      <td>F</td>\n",
       "      <td>D</td>\n",
       "      <td>[Black]</td>\n",
       "    </tr>\n",
       "    <tr>\n",
       "      <th>4</th>\n",
       "      <td>5</td>\n",
       "      <td>26FD</td>\n",
       "      <td>C-Amarelo</td>\n",
       "      <td>Black</td>\n",
       "      <td>0</td>\n",
       "      <td>26</td>\n",
       "      <td>F</td>\n",
       "      <td>D</td>\n",
       "      <td>[Black]</td>\n",
       "    </tr>\n",
       "  </tbody>\n",
       "</table>\n",
       "</div>"
      ],
      "text/plain": [
       "   ID ChaveSituacao ClassRisco   CatCliente  Pagamento Idade Genero  \\\n",
       "0   1          32FC     Ccinza  Basic-Alpha          1    32      F   \n",
       "1   2          25MV   AAmarelo        Black          1    25      M   \n",
       "2   3          27MV  B-Amarelo   Basic-Beta          1    27      M   \n",
       "3   4          26FD   BAmarelo        Black          0    26      F   \n",
       "4   5          26FD  C-Amarelo        Black          0    26      F   \n",
       "\n",
       "  EstadoCivil       Categoria  \n",
       "0           C  [Basic, Alpha]  \n",
       "1           V         [Black]  \n",
       "2           V   [Basic, Beta]  \n",
       "3           D         [Black]  \n",
       "4           D         [Black]  "
      ]
     },
     "execution_count": 18,
     "metadata": {},
     "output_type": "execute_result"
    }
   ],
   "source": [
    "base.head()"
   ]
  },
  {
   "cell_type": "code",
   "execution_count": 19,
   "id": "c0e5269b",
   "metadata": {},
   "outputs": [],
   "source": [
    "base['Categoria'] = base['CatCliente'].str.split('-').str[0]\n",
    "base['CategoriaVIP'] = base['CatCliente'].str.split('-').str[1]"
   ]
  },
  {
   "cell_type": "code",
   "execution_count": 20,
   "id": "db5c253b",
   "metadata": {},
   "outputs": [
    {
     "data": {
      "text/html": [
       "<div>\n",
       "<style scoped>\n",
       "    .dataframe tbody tr th:only-of-type {\n",
       "        vertical-align: middle;\n",
       "    }\n",
       "\n",
       "    .dataframe tbody tr th {\n",
       "        vertical-align: top;\n",
       "    }\n",
       "\n",
       "    .dataframe thead th {\n",
       "        text-align: right;\n",
       "    }\n",
       "</style>\n",
       "<table border=\"1\" class=\"dataframe\">\n",
       "  <thead>\n",
       "    <tr style=\"text-align: right;\">\n",
       "      <th></th>\n",
       "      <th>ID</th>\n",
       "      <th>ChaveSituacao</th>\n",
       "      <th>ClassRisco</th>\n",
       "      <th>CatCliente</th>\n",
       "      <th>Pagamento</th>\n",
       "      <th>Idade</th>\n",
       "      <th>Genero</th>\n",
       "      <th>EstadoCivil</th>\n",
       "      <th>Categoria</th>\n",
       "      <th>CategoriaVIP</th>\n",
       "    </tr>\n",
       "  </thead>\n",
       "  <tbody>\n",
       "    <tr>\n",
       "      <th>0</th>\n",
       "      <td>1</td>\n",
       "      <td>32FC</td>\n",
       "      <td>Ccinza</td>\n",
       "      <td>Basic-Alpha</td>\n",
       "      <td>1</td>\n",
       "      <td>32</td>\n",
       "      <td>F</td>\n",
       "      <td>C</td>\n",
       "      <td>Basic</td>\n",
       "      <td>Alpha</td>\n",
       "    </tr>\n",
       "    <tr>\n",
       "      <th>1</th>\n",
       "      <td>2</td>\n",
       "      <td>25MV</td>\n",
       "      <td>AAmarelo</td>\n",
       "      <td>Black</td>\n",
       "      <td>1</td>\n",
       "      <td>25</td>\n",
       "      <td>M</td>\n",
       "      <td>V</td>\n",
       "      <td>Black</td>\n",
       "      <td>NaN</td>\n",
       "    </tr>\n",
       "    <tr>\n",
       "      <th>2</th>\n",
       "      <td>3</td>\n",
       "      <td>27MV</td>\n",
       "      <td>B-Amarelo</td>\n",
       "      <td>Basic-Beta</td>\n",
       "      <td>1</td>\n",
       "      <td>27</td>\n",
       "      <td>M</td>\n",
       "      <td>V</td>\n",
       "      <td>Basic</td>\n",
       "      <td>Beta</td>\n",
       "    </tr>\n",
       "    <tr>\n",
       "      <th>3</th>\n",
       "      <td>4</td>\n",
       "      <td>26FD</td>\n",
       "      <td>BAmarelo</td>\n",
       "      <td>Black</td>\n",
       "      <td>0</td>\n",
       "      <td>26</td>\n",
       "      <td>F</td>\n",
       "      <td>D</td>\n",
       "      <td>Black</td>\n",
       "      <td>NaN</td>\n",
       "    </tr>\n",
       "    <tr>\n",
       "      <th>4</th>\n",
       "      <td>5</td>\n",
       "      <td>26FD</td>\n",
       "      <td>C-Amarelo</td>\n",
       "      <td>Black</td>\n",
       "      <td>0</td>\n",
       "      <td>26</td>\n",
       "      <td>F</td>\n",
       "      <td>D</td>\n",
       "      <td>Black</td>\n",
       "      <td>NaN</td>\n",
       "    </tr>\n",
       "  </tbody>\n",
       "</table>\n",
       "</div>"
      ],
      "text/plain": [
       "   ID ChaveSituacao ClassRisco   CatCliente  Pagamento Idade Genero  \\\n",
       "0   1          32FC     Ccinza  Basic-Alpha          1    32      F   \n",
       "1   2          25MV   AAmarelo        Black          1    25      M   \n",
       "2   3          27MV  B-Amarelo   Basic-Beta          1    27      M   \n",
       "3   4          26FD   BAmarelo        Black          0    26      F   \n",
       "4   5          26FD  C-Amarelo        Black          0    26      F   \n",
       "\n",
       "  EstadoCivil Categoria CategoriaVIP  \n",
       "0           C     Basic        Alpha  \n",
       "1           V     Black          NaN  \n",
       "2           V     Basic         Beta  \n",
       "3           D     Black          NaN  \n",
       "4           D     Black          NaN  "
      ]
     },
     "execution_count": 20,
     "metadata": {},
     "output_type": "execute_result"
    }
   ],
   "source": [
    "base.head()"
   ]
  },
  {
   "cell_type": "markdown",
   "id": "8b1571e1",
   "metadata": {},
   "source": [
    "* Como separar ClassRisco?\n",
    "    - utilizar o Regex"
   ]
  },
  {
   "cell_type": "code",
   "execution_count": 21,
   "id": "a9a7807c",
   "metadata": {},
   "outputs": [],
   "source": [
    "import re"
   ]
  },
  {
   "cell_type": "code",
   "execution_count": 22,
   "id": "649ed057",
   "metadata": {},
   "outputs": [
    {
     "data": {
      "text/plain": [
       "['Marino']"
      ]
     },
     "execution_count": 22,
     "metadata": {},
     "output_type": "execute_result"
    }
   ],
   "source": [
    "re.findall('Marino', 'meu nome é Marino')"
   ]
  },
  {
   "cell_type": "markdown",
   "id": "d85b80f9",
   "metadata": {},
   "source": [
    "* Regex:\n",
    "    - ^: começa com\n",
    "    - $: termina com\n",
    "    - *: o último caractere repetido 0 ou mais vezes\n",
    "    - +: o último caractere repetido 1 ou mais vezes\n",
    "    - ?: o último caractere repetido 0 ou 1 vez\n",
    "    - [A-Z]: qualuqer valor em maiúsculo"
   ]
  },
  {
   "cell_type": "code",
   "execution_count": 23,
   "id": "2a9bfe6f",
   "metadata": {},
   "outputs": [
    {
     "data": {
      "text/plain": [
       "['Marrrrrrrrrrrrrino']"
      ]
     },
     "execution_count": 23,
     "metadata": {},
     "output_type": "execute_result"
    }
   ],
   "source": [
    "re.findall('Mar*ino', 'meu nome é Marrrrrrrrrrrrrino')"
   ]
  },
  {
   "cell_type": "code",
   "execution_count": 24,
   "id": "a7fd9aea",
   "metadata": {},
   "outputs": [
    {
     "data": {
      "text/plain": [
       "['meu']"
      ]
     },
     "execution_count": 24,
     "metadata": {},
     "output_type": "execute_result"
    }
   ],
   "source": [
    "re.findall('^meu', 'meu nome é Marino')"
   ]
  },
  {
   "cell_type": "code",
   "execution_count": 25,
   "id": "cc87c7eb",
   "metadata": {},
   "outputs": [
    {
     "data": {
      "text/plain": [
       "['Mar']"
      ]
     },
     "execution_count": 25,
     "metadata": {},
     "output_type": "execute_result"
    }
   ],
   "source": [
    "re.findall('Mar+', 'meu nome é Marino')"
   ]
  },
  {
   "cell_type": "code",
   "execution_count": 26,
   "id": "a7ad5611",
   "metadata": {},
   "outputs": [
    {
     "data": {
      "text/plain": [
       "['Mar']"
      ]
     },
     "execution_count": 26,
     "metadata": {},
     "output_type": "execute_result"
    }
   ],
   "source": [
    "re.findall('[A-Z]+\\w{2}', 'meu nome é Marino')"
   ]
  },
  {
   "cell_type": "code",
   "execution_count": 27,
   "id": "3910c3e2",
   "metadata": {},
   "outputs": [
    {
     "data": {
      "text/html": [
       "<div>\n",
       "<style scoped>\n",
       "    .dataframe tbody tr th:only-of-type {\n",
       "        vertical-align: middle;\n",
       "    }\n",
       "\n",
       "    .dataframe tbody tr th {\n",
       "        vertical-align: top;\n",
       "    }\n",
       "\n",
       "    .dataframe thead th {\n",
       "        text-align: right;\n",
       "    }\n",
       "</style>\n",
       "<table border=\"1\" class=\"dataframe\">\n",
       "  <thead>\n",
       "    <tr style=\"text-align: right;\">\n",
       "      <th></th>\n",
       "      <th>ID</th>\n",
       "      <th>ChaveSituacao</th>\n",
       "      <th>ClassRisco</th>\n",
       "      <th>CatCliente</th>\n",
       "      <th>Pagamento</th>\n",
       "      <th>Idade</th>\n",
       "      <th>Genero</th>\n",
       "      <th>EstadoCivil</th>\n",
       "      <th>Categoria</th>\n",
       "      <th>CategoriaVIP</th>\n",
       "    </tr>\n",
       "  </thead>\n",
       "  <tbody>\n",
       "    <tr>\n",
       "      <th>0</th>\n",
       "      <td>1</td>\n",
       "      <td>32FC</td>\n",
       "      <td>Ccinza</td>\n",
       "      <td>Basic-Alpha</td>\n",
       "      <td>1</td>\n",
       "      <td>32</td>\n",
       "      <td>F</td>\n",
       "      <td>C</td>\n",
       "      <td>Basic</td>\n",
       "      <td>Alpha</td>\n",
       "    </tr>\n",
       "    <tr>\n",
       "      <th>1</th>\n",
       "      <td>2</td>\n",
       "      <td>25MV</td>\n",
       "      <td>AAmarelo</td>\n",
       "      <td>Black</td>\n",
       "      <td>1</td>\n",
       "      <td>25</td>\n",
       "      <td>M</td>\n",
       "      <td>V</td>\n",
       "      <td>Black</td>\n",
       "      <td>NaN</td>\n",
       "    </tr>\n",
       "    <tr>\n",
       "      <th>2</th>\n",
       "      <td>3</td>\n",
       "      <td>27MV</td>\n",
       "      <td>B-Amarelo</td>\n",
       "      <td>Basic-Beta</td>\n",
       "      <td>1</td>\n",
       "      <td>27</td>\n",
       "      <td>M</td>\n",
       "      <td>V</td>\n",
       "      <td>Basic</td>\n",
       "      <td>Beta</td>\n",
       "    </tr>\n",
       "    <tr>\n",
       "      <th>3</th>\n",
       "      <td>4</td>\n",
       "      <td>26FD</td>\n",
       "      <td>BAmarelo</td>\n",
       "      <td>Black</td>\n",
       "      <td>0</td>\n",
       "      <td>26</td>\n",
       "      <td>F</td>\n",
       "      <td>D</td>\n",
       "      <td>Black</td>\n",
       "      <td>NaN</td>\n",
       "    </tr>\n",
       "    <tr>\n",
       "      <th>4</th>\n",
       "      <td>5</td>\n",
       "      <td>26FD</td>\n",
       "      <td>C-Amarelo</td>\n",
       "      <td>Black</td>\n",
       "      <td>0</td>\n",
       "      <td>26</td>\n",
       "      <td>F</td>\n",
       "      <td>D</td>\n",
       "      <td>Black</td>\n",
       "      <td>NaN</td>\n",
       "    </tr>\n",
       "  </tbody>\n",
       "</table>\n",
       "</div>"
      ],
      "text/plain": [
       "   ID ChaveSituacao ClassRisco   CatCliente  Pagamento Idade Genero  \\\n",
       "0   1          32FC     Ccinza  Basic-Alpha          1    32      F   \n",
       "1   2          25MV   AAmarelo        Black          1    25      M   \n",
       "2   3          27MV  B-Amarelo   Basic-Beta          1    27      M   \n",
       "3   4          26FD   BAmarelo        Black          0    26      F   \n",
       "4   5          26FD  C-Amarelo        Black          0    26      F   \n",
       "\n",
       "  EstadoCivil Categoria CategoriaVIP  \n",
       "0           C     Basic        Alpha  \n",
       "1           V     Black          NaN  \n",
       "2           V     Basic         Beta  \n",
       "3           D     Black          NaN  \n",
       "4           D     Black          NaN  "
      ]
     },
     "execution_count": 27,
     "metadata": {},
     "output_type": "execute_result"
    }
   ],
   "source": [
    "base.head()"
   ]
  },
  {
   "cell_type": "markdown",
   "id": "c3d86644",
   "metadata": {},
   "source": [
    "* Como a coluna ClassRisco não tem um formato bem definido, o Regex é um bom candidato para utilizarmos"
   ]
  },
  {
   "cell_type": "code",
   "execution_count": 28,
   "id": "907d8391",
   "metadata": {},
   "outputs": [
    {
     "data": {
      "text/plain": [
       "['B-']"
      ]
     },
     "execution_count": 28,
     "metadata": {},
     "output_type": "execute_result"
    }
   ],
   "source": [
    "re.findall('^[A-Z].?', 'B-Amarelo')"
   ]
  },
  {
   "cell_type": "code",
   "execution_count": 29,
   "id": "ec59ef94",
   "metadata": {},
   "outputs": [
    {
     "data": {
      "text/plain": [
       "['AA']"
      ]
     },
     "execution_count": 29,
     "metadata": {},
     "output_type": "execute_result"
    }
   ],
   "source": [
    "re.findall('^[A-Z].?', 'AAmarelo')"
   ]
  },
  {
   "cell_type": "code",
   "execution_count": 30,
   "id": "97a2d1b9",
   "metadata": {},
   "outputs": [
    {
     "data": {
      "text/plain": [
       "['A']"
      ]
     },
     "execution_count": 30,
     "metadata": {},
     "output_type": "execute_result"
    }
   ],
   "source": [
    "re.findall('^[A-Z][^A-Za-z]?', 'AAmarelo')"
   ]
  },
  {
   "cell_type": "code",
   "execution_count": 31,
   "id": "aa4d1cd8",
   "metadata": {},
   "outputs": [
    {
     "data": {
      "text/plain": [
       "['C']"
      ]
     },
     "execution_count": 31,
     "metadata": {},
     "output_type": "execute_result"
    }
   ],
   "source": [
    "re.findall('^[A-Z][^A-Za-z]?', 'Ccinza')"
   ]
  },
  {
   "cell_type": "code",
   "execution_count": 32,
   "id": "87c10647",
   "metadata": {},
   "outputs": [],
   "source": [
    "base['Risco'] = base.ClassRisco.apply(lambda x: re.findall('^[A-Z][^A-Za-z]?', x)[0])"
   ]
  },
  {
   "cell_type": "code",
   "execution_count": 33,
   "id": "02700aa6",
   "metadata": {},
   "outputs": [
    {
     "data": {
      "text/html": [
       "<div>\n",
       "<style scoped>\n",
       "    .dataframe tbody tr th:only-of-type {\n",
       "        vertical-align: middle;\n",
       "    }\n",
       "\n",
       "    .dataframe tbody tr th {\n",
       "        vertical-align: top;\n",
       "    }\n",
       "\n",
       "    .dataframe thead th {\n",
       "        text-align: right;\n",
       "    }\n",
       "</style>\n",
       "<table border=\"1\" class=\"dataframe\">\n",
       "  <thead>\n",
       "    <tr style=\"text-align: right;\">\n",
       "      <th></th>\n",
       "      <th>ID</th>\n",
       "      <th>ChaveSituacao</th>\n",
       "      <th>ClassRisco</th>\n",
       "      <th>CatCliente</th>\n",
       "      <th>Pagamento</th>\n",
       "      <th>Idade</th>\n",
       "      <th>Genero</th>\n",
       "      <th>EstadoCivil</th>\n",
       "      <th>Categoria</th>\n",
       "      <th>CategoriaVIP</th>\n",
       "      <th>Risco</th>\n",
       "    </tr>\n",
       "  </thead>\n",
       "  <tbody>\n",
       "    <tr>\n",
       "      <th>0</th>\n",
       "      <td>1</td>\n",
       "      <td>32FC</td>\n",
       "      <td>Ccinza</td>\n",
       "      <td>Basic-Alpha</td>\n",
       "      <td>1</td>\n",
       "      <td>32</td>\n",
       "      <td>F</td>\n",
       "      <td>C</td>\n",
       "      <td>Basic</td>\n",
       "      <td>Alpha</td>\n",
       "      <td>C</td>\n",
       "    </tr>\n",
       "    <tr>\n",
       "      <th>1</th>\n",
       "      <td>2</td>\n",
       "      <td>25MV</td>\n",
       "      <td>AAmarelo</td>\n",
       "      <td>Black</td>\n",
       "      <td>1</td>\n",
       "      <td>25</td>\n",
       "      <td>M</td>\n",
       "      <td>V</td>\n",
       "      <td>Black</td>\n",
       "      <td>NaN</td>\n",
       "      <td>A</td>\n",
       "    </tr>\n",
       "    <tr>\n",
       "      <th>2</th>\n",
       "      <td>3</td>\n",
       "      <td>27MV</td>\n",
       "      <td>B-Amarelo</td>\n",
       "      <td>Basic-Beta</td>\n",
       "      <td>1</td>\n",
       "      <td>27</td>\n",
       "      <td>M</td>\n",
       "      <td>V</td>\n",
       "      <td>Basic</td>\n",
       "      <td>Beta</td>\n",
       "      <td>B-</td>\n",
       "    </tr>\n",
       "    <tr>\n",
       "      <th>3</th>\n",
       "      <td>4</td>\n",
       "      <td>26FD</td>\n",
       "      <td>BAmarelo</td>\n",
       "      <td>Black</td>\n",
       "      <td>0</td>\n",
       "      <td>26</td>\n",
       "      <td>F</td>\n",
       "      <td>D</td>\n",
       "      <td>Black</td>\n",
       "      <td>NaN</td>\n",
       "      <td>B</td>\n",
       "    </tr>\n",
       "    <tr>\n",
       "      <th>4</th>\n",
       "      <td>5</td>\n",
       "      <td>26FD</td>\n",
       "      <td>C-Amarelo</td>\n",
       "      <td>Black</td>\n",
       "      <td>0</td>\n",
       "      <td>26</td>\n",
       "      <td>F</td>\n",
       "      <td>D</td>\n",
       "      <td>Black</td>\n",
       "      <td>NaN</td>\n",
       "      <td>C-</td>\n",
       "    </tr>\n",
       "  </tbody>\n",
       "</table>\n",
       "</div>"
      ],
      "text/plain": [
       "   ID ChaveSituacao ClassRisco   CatCliente  Pagamento Idade Genero  \\\n",
       "0   1          32FC     Ccinza  Basic-Alpha          1    32      F   \n",
       "1   2          25MV   AAmarelo        Black          1    25      M   \n",
       "2   3          27MV  B-Amarelo   Basic-Beta          1    27      M   \n",
       "3   4          26FD   BAmarelo        Black          0    26      F   \n",
       "4   5          26FD  C-Amarelo        Black          0    26      F   \n",
       "\n",
       "  EstadoCivil Categoria CategoriaVIP Risco  \n",
       "0           C     Basic        Alpha     C  \n",
       "1           V     Black          NaN     A  \n",
       "2           V     Basic         Beta    B-  \n",
       "3           D     Black          NaN     B  \n",
       "4           D     Black          NaN    C-  "
      ]
     },
     "execution_count": 33,
     "metadata": {},
     "output_type": "execute_result"
    }
   ],
   "source": [
    "base.head()"
   ]
  },
  {
   "cell_type": "code",
   "execution_count": 34,
   "id": "ec2513fc",
   "metadata": {},
   "outputs": [
    {
     "name": "stdout",
     "output_type": "stream",
     "text": [
      "<class 'pandas.core.frame.DataFrame'>\n",
      "RangeIndex: 20 entries, 0 to 19\n",
      "Data columns (total 11 columns):\n",
      " #   Column         Non-Null Count  Dtype \n",
      "---  ------         --------------  ----- \n",
      " 0   ID             20 non-null     int64 \n",
      " 1   ChaveSituacao  20 non-null     object\n",
      " 2   ClassRisco     20 non-null     object\n",
      " 3   CatCliente     20 non-null     object\n",
      " 4   Pagamento      20 non-null     int64 \n",
      " 5   Idade          20 non-null     object\n",
      " 6   Genero         20 non-null     object\n",
      " 7   EstadoCivil    20 non-null     object\n",
      " 8   Categoria      20 non-null     object\n",
      " 9   CategoriaVIP   8 non-null      object\n",
      " 10  Risco          20 non-null     object\n",
      "dtypes: int64(2), object(9)\n",
      "memory usage: 1.8+ KB\n"
     ]
    }
   ],
   "source": [
    "base.info()"
   ]
  },
  {
   "cell_type": "markdown",
   "id": "00c3bf02",
   "metadata": {},
   "source": [
    "* A coluna idade está sendo tratada como objeto, deveria ser um número"
   ]
  },
  {
   "cell_type": "code",
   "execution_count": 35,
   "id": "94ac9cca",
   "metadata": {},
   "outputs": [],
   "source": [
    "base['Idade'] = pd.to_numeric(base['Idade'])"
   ]
  },
  {
   "cell_type": "code",
   "execution_count": 36,
   "id": "1250c9b3",
   "metadata": {},
   "outputs": [
    {
     "name": "stdout",
     "output_type": "stream",
     "text": [
      "<class 'pandas.core.frame.DataFrame'>\n",
      "RangeIndex: 20 entries, 0 to 19\n",
      "Data columns (total 11 columns):\n",
      " #   Column         Non-Null Count  Dtype \n",
      "---  ------         --------------  ----- \n",
      " 0   ID             20 non-null     int64 \n",
      " 1   ChaveSituacao  20 non-null     object\n",
      " 2   ClassRisco     20 non-null     object\n",
      " 3   CatCliente     20 non-null     object\n",
      " 4   Pagamento      20 non-null     int64 \n",
      " 5   Idade          20 non-null     int64 \n",
      " 6   Genero         20 non-null     object\n",
      " 7   EstadoCivil    20 non-null     object\n",
      " 8   Categoria      20 non-null     object\n",
      " 9   CategoriaVIP   8 non-null      object\n",
      " 10  Risco          20 non-null     object\n",
      "dtypes: int64(3), object(8)\n",
      "memory usage: 1.8+ KB\n"
     ]
    }
   ],
   "source": [
    "base.info()"
   ]
  },
  {
   "cell_type": "markdown",
   "id": "1d2a80b3",
   "metadata": {},
   "source": [
    "* A CategoriaVIP criada possui 8 valores vazios"
   ]
  },
  {
   "cell_type": "code",
   "execution_count": 37,
   "id": "c0a6db81",
   "metadata": {},
   "outputs": [],
   "source": [
    "base.loc[base.CategoriaVIP.isnull(), 'CategoriaVIP'] = 'Comum'"
   ]
  },
  {
   "cell_type": "code",
   "execution_count": 38,
   "id": "547d09fe",
   "metadata": {},
   "outputs": [
    {
     "name": "stdout",
     "output_type": "stream",
     "text": [
      "<class 'pandas.core.frame.DataFrame'>\n",
      "RangeIndex: 20 entries, 0 to 19\n",
      "Data columns (total 11 columns):\n",
      " #   Column         Non-Null Count  Dtype \n",
      "---  ------         --------------  ----- \n",
      " 0   ID             20 non-null     int64 \n",
      " 1   ChaveSituacao  20 non-null     object\n",
      " 2   ClassRisco     20 non-null     object\n",
      " 3   CatCliente     20 non-null     object\n",
      " 4   Pagamento      20 non-null     int64 \n",
      " 5   Idade          20 non-null     int64 \n",
      " 6   Genero         20 non-null     object\n",
      " 7   EstadoCivil    20 non-null     object\n",
      " 8   Categoria      20 non-null     object\n",
      " 9   CategoriaVIP   20 non-null     object\n",
      " 10  Risco          20 non-null     object\n",
      "dtypes: int64(3), object(8)\n",
      "memory usage: 1.8+ KB\n"
     ]
    }
   ],
   "source": [
    "base.info()"
   ]
  },
  {
   "cell_type": "code",
   "execution_count": 39,
   "id": "f7ac93a5",
   "metadata": {},
   "outputs": [
    {
     "data": {
      "text/html": [
       "<div>\n",
       "<style scoped>\n",
       "    .dataframe tbody tr th:only-of-type {\n",
       "        vertical-align: middle;\n",
       "    }\n",
       "\n",
       "    .dataframe tbody tr th {\n",
       "        vertical-align: top;\n",
       "    }\n",
       "\n",
       "    .dataframe thead th {\n",
       "        text-align: right;\n",
       "    }\n",
       "</style>\n",
       "<table border=\"1\" class=\"dataframe\">\n",
       "  <thead>\n",
       "    <tr style=\"text-align: right;\">\n",
       "      <th></th>\n",
       "      <th>ID</th>\n",
       "      <th>ChaveSituacao</th>\n",
       "      <th>ClassRisco</th>\n",
       "      <th>CatCliente</th>\n",
       "      <th>Pagamento</th>\n",
       "      <th>Idade</th>\n",
       "      <th>Genero</th>\n",
       "      <th>EstadoCivil</th>\n",
       "      <th>Categoria</th>\n",
       "      <th>CategoriaVIP</th>\n",
       "      <th>Risco</th>\n",
       "    </tr>\n",
       "  </thead>\n",
       "  <tbody>\n",
       "    <tr>\n",
       "      <th>0</th>\n",
       "      <td>1</td>\n",
       "      <td>32FC</td>\n",
       "      <td>Ccinza</td>\n",
       "      <td>Basic-Alpha</td>\n",
       "      <td>1</td>\n",
       "      <td>32</td>\n",
       "      <td>F</td>\n",
       "      <td>C</td>\n",
       "      <td>Basic</td>\n",
       "      <td>Alpha</td>\n",
       "      <td>C</td>\n",
       "    </tr>\n",
       "    <tr>\n",
       "      <th>1</th>\n",
       "      <td>2</td>\n",
       "      <td>25MV</td>\n",
       "      <td>AAmarelo</td>\n",
       "      <td>Black</td>\n",
       "      <td>1</td>\n",
       "      <td>25</td>\n",
       "      <td>M</td>\n",
       "      <td>V</td>\n",
       "      <td>Black</td>\n",
       "      <td>Comum</td>\n",
       "      <td>A</td>\n",
       "    </tr>\n",
       "    <tr>\n",
       "      <th>2</th>\n",
       "      <td>3</td>\n",
       "      <td>27MV</td>\n",
       "      <td>B-Amarelo</td>\n",
       "      <td>Basic-Beta</td>\n",
       "      <td>1</td>\n",
       "      <td>27</td>\n",
       "      <td>M</td>\n",
       "      <td>V</td>\n",
       "      <td>Basic</td>\n",
       "      <td>Beta</td>\n",
       "      <td>B-</td>\n",
       "    </tr>\n",
       "    <tr>\n",
       "      <th>3</th>\n",
       "      <td>4</td>\n",
       "      <td>26FD</td>\n",
       "      <td>BAmarelo</td>\n",
       "      <td>Black</td>\n",
       "      <td>0</td>\n",
       "      <td>26</td>\n",
       "      <td>F</td>\n",
       "      <td>D</td>\n",
       "      <td>Black</td>\n",
       "      <td>Comum</td>\n",
       "      <td>B</td>\n",
       "    </tr>\n",
       "    <tr>\n",
       "      <th>4</th>\n",
       "      <td>5</td>\n",
       "      <td>26FD</td>\n",
       "      <td>C-Amarelo</td>\n",
       "      <td>Black</td>\n",
       "      <td>0</td>\n",
       "      <td>26</td>\n",
       "      <td>F</td>\n",
       "      <td>D</td>\n",
       "      <td>Black</td>\n",
       "      <td>Comum</td>\n",
       "      <td>C-</td>\n",
       "    </tr>\n",
       "  </tbody>\n",
       "</table>\n",
       "</div>"
      ],
      "text/plain": [
       "   ID ChaveSituacao ClassRisco   CatCliente  Pagamento  Idade Genero  \\\n",
       "0   1          32FC     Ccinza  Basic-Alpha          1     32      F   \n",
       "1   2          25MV   AAmarelo        Black          1     25      M   \n",
       "2   3          27MV  B-Amarelo   Basic-Beta          1     27      M   \n",
       "3   4          26FD   BAmarelo        Black          0     26      F   \n",
       "4   5          26FD  C-Amarelo        Black          0     26      F   \n",
       "\n",
       "  EstadoCivil Categoria CategoriaVIP Risco  \n",
       "0           C     Basic        Alpha     C  \n",
       "1           V     Black        Comum     A  \n",
       "2           V     Basic         Beta    B-  \n",
       "3           D     Black        Comum     B  \n",
       "4           D     Black        Comum    C-  "
      ]
     },
     "execution_count": 39,
     "metadata": {},
     "output_type": "execute_result"
    }
   ],
   "source": [
    "base.head()"
   ]
  },
  {
   "cell_type": "code",
   "execution_count": 40,
   "id": "1cbdeb45",
   "metadata": {},
   "outputs": [
    {
     "data": {
      "text/plain": [
       "Pagamento  Categoria\n",
       "0          Basic        3\n",
       "           Black        3\n",
       "           Platinum     1\n",
       "1          Basic        3\n",
       "           Black        4\n",
       "           Platinum     6\n",
       "Name: Pagamento, dtype: int64"
      ]
     },
     "execution_count": 40,
     "metadata": {},
     "output_type": "execute_result"
    }
   ],
   "source": [
    "base.groupby(['Pagamento', 'Categoria'])['Pagamento'].count()"
   ]
  },
  {
   "cell_type": "code",
   "execution_count": 41,
   "id": "e46cff41",
   "metadata": {},
   "outputs": [
    {
     "data": {
      "text/plain": [
       "Pagamento  CategoriaVIP\n",
       "0          Alpha           1\n",
       "           Beta            2\n",
       "           Comum           4\n",
       "1          Alpha           3\n",
       "           Beta            2\n",
       "           Comum           8\n",
       "Name: Pagamento, dtype: int64"
      ]
     },
     "execution_count": 41,
     "metadata": {},
     "output_type": "execute_result"
    }
   ],
   "source": [
    "base.groupby(['Pagamento', 'CategoriaVIP'])['Pagamento'].count()"
   ]
  }
 ],
 "metadata": {
  "kernelspec": {
   "display_name": "Python 3",
   "language": "python",
   "name": "python3"
  },
  "language_info": {
   "codemirror_mode": {
    "name": "ipython",
    "version": 3
   },
   "file_extension": ".py",
   "mimetype": "text/x-python",
   "name": "python",
   "nbconvert_exporter": "python",
   "pygments_lexer": "ipython3",
   "version": "3.11.0"
  }
 },
 "nbformat": 4,
 "nbformat_minor": 5
}
