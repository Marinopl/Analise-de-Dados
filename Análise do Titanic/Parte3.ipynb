{
 "cells": [
  {
   "cell_type": "markdown",
   "id": "7e39686d",
   "metadata": {},
   "source": [
    "# Análise do Titanic - Parte 2\n",
    "\n",
    "## Importando as bases de dados de treino e teste"
   ]
  },
  {
   "cell_type": "code",
   "execution_count": 1,
   "id": "6c1b060e",
   "metadata": {},
   "outputs": [],
   "source": [
    "import pandas as pd"
   ]
  },
  {
   "cell_type": "markdown",
   "id": "b11a6107",
   "metadata": {},
   "source": [
    "* Vamos utilizar a mesma base que finalizou-se a Parte 2."
   ]
  },
  {
   "cell_type": "code",
   "execution_count": 12,
   "id": "e0b17f44",
   "metadata": {},
   "outputs": [],
   "source": [
    "treino = pd.read_csv('Parte 2/base_parte2.csv')"
   ]
  },
  {
   "cell_type": "code",
   "execution_count": 13,
   "id": "5e52e267",
   "metadata": {},
   "outputs": [
    {
     "data": {
      "text/html": [
       "<div>\n",
       "<style scoped>\n",
       "    .dataframe tbody tr th:only-of-type {\n",
       "        vertical-align: middle;\n",
       "    }\n",
       "\n",
       "    .dataframe tbody tr th {\n",
       "        vertical-align: top;\n",
       "    }\n",
       "\n",
       "    .dataframe thead th {\n",
       "        text-align: right;\n",
       "    }\n",
       "</style>\n",
       "<table border=\"1\" class=\"dataframe\">\n",
       "  <thead>\n",
       "    <tr style=\"text-align: right;\">\n",
       "      <th></th>\n",
       "      <th>PassengerId</th>\n",
       "      <th>Survived</th>\n",
       "      <th>Pclass</th>\n",
       "      <th>Sex</th>\n",
       "      <th>Age</th>\n",
       "      <th>SibSp</th>\n",
       "      <th>Parch</th>\n",
       "      <th>Fare</th>\n",
       "      <th>Embarked</th>\n",
       "      <th>MaleCheck</th>\n",
       "      <th>Embarked_C</th>\n",
       "      <th>Embarked_Q</th>\n",
       "      <th>Embarked_S</th>\n",
       "    </tr>\n",
       "  </thead>\n",
       "  <tbody>\n",
       "    <tr>\n",
       "      <th>0</th>\n",
       "      <td>1</td>\n",
       "      <td>0</td>\n",
       "      <td>3</td>\n",
       "      <td>male</td>\n",
       "      <td>22.0</td>\n",
       "      <td>1</td>\n",
       "      <td>0</td>\n",
       "      <td>7.2500</td>\n",
       "      <td>S</td>\n",
       "      <td>1</td>\n",
       "      <td>0</td>\n",
       "      <td>0</td>\n",
       "      <td>1</td>\n",
       "    </tr>\n",
       "    <tr>\n",
       "      <th>1</th>\n",
       "      <td>2</td>\n",
       "      <td>1</td>\n",
       "      <td>1</td>\n",
       "      <td>female</td>\n",
       "      <td>38.0</td>\n",
       "      <td>1</td>\n",
       "      <td>0</td>\n",
       "      <td>71.2833</td>\n",
       "      <td>C</td>\n",
       "      <td>0</td>\n",
       "      <td>1</td>\n",
       "      <td>0</td>\n",
       "      <td>0</td>\n",
       "    </tr>\n",
       "    <tr>\n",
       "      <th>2</th>\n",
       "      <td>3</td>\n",
       "      <td>1</td>\n",
       "      <td>3</td>\n",
       "      <td>female</td>\n",
       "      <td>26.0</td>\n",
       "      <td>0</td>\n",
       "      <td>0</td>\n",
       "      <td>7.9250</td>\n",
       "      <td>S</td>\n",
       "      <td>0</td>\n",
       "      <td>0</td>\n",
       "      <td>0</td>\n",
       "      <td>1</td>\n",
       "    </tr>\n",
       "  </tbody>\n",
       "</table>\n",
       "</div>"
      ],
      "text/plain": [
       "   PassengerId  Survived  Pclass     Sex   Age  SibSp  Parch     Fare  \\\n",
       "0            1         0       3    male  22.0      1      0   7.2500   \n",
       "1            2         1       1  female  38.0      1      0  71.2833   \n",
       "2            3         1       3  female  26.0      0      0   7.9250   \n",
       "\n",
       "  Embarked  MaleCheck  Embarked_C  Embarked_Q  Embarked_S  \n",
       "0        S          1           0           0           1  \n",
       "1        C          0           1           0           0  \n",
       "2        S          0           0           0           1  "
      ]
     },
     "execution_count": 13,
     "metadata": {},
     "output_type": "execute_result"
    }
   ],
   "source": [
    "treino.head(3)"
   ]
  },
  {
   "cell_type": "code",
   "execution_count": 14,
   "id": "daf605d7",
   "metadata": {},
   "outputs": [],
   "source": [
    "teste = pd.read_csv('Parte 2/base_teste_parte2.csv')"
   ]
  },
  {
   "cell_type": "code",
   "execution_count": 15,
   "id": "3209136b",
   "metadata": {},
   "outputs": [
    {
     "data": {
      "text/html": [
       "<div>\n",
       "<style scoped>\n",
       "    .dataframe tbody tr th:only-of-type {\n",
       "        vertical-align: middle;\n",
       "    }\n",
       "\n",
       "    .dataframe tbody tr th {\n",
       "        vertical-align: top;\n",
       "    }\n",
       "\n",
       "    .dataframe thead th {\n",
       "        text-align: right;\n",
       "    }\n",
       "</style>\n",
       "<table border=\"1\" class=\"dataframe\">\n",
       "  <thead>\n",
       "    <tr style=\"text-align: right;\">\n",
       "      <th></th>\n",
       "      <th>PassengerId</th>\n",
       "      <th>Pclass</th>\n",
       "      <th>Sex</th>\n",
       "      <th>Age</th>\n",
       "      <th>SibSp</th>\n",
       "      <th>Parch</th>\n",
       "      <th>Fare</th>\n",
       "      <th>Embarked</th>\n",
       "      <th>MaleCheck</th>\n",
       "      <th>Embarked_C</th>\n",
       "      <th>Embarked_Q</th>\n",
       "      <th>Embarked_S</th>\n",
       "    </tr>\n",
       "  </thead>\n",
       "  <tbody>\n",
       "    <tr>\n",
       "      <th>0</th>\n",
       "      <td>892</td>\n",
       "      <td>3</td>\n",
       "      <td>male</td>\n",
       "      <td>34.5</td>\n",
       "      <td>0</td>\n",
       "      <td>0</td>\n",
       "      <td>7.8292</td>\n",
       "      <td>Q</td>\n",
       "      <td>1</td>\n",
       "      <td>0</td>\n",
       "      <td>1</td>\n",
       "      <td>0</td>\n",
       "    </tr>\n",
       "    <tr>\n",
       "      <th>1</th>\n",
       "      <td>893</td>\n",
       "      <td>3</td>\n",
       "      <td>female</td>\n",
       "      <td>47.0</td>\n",
       "      <td>1</td>\n",
       "      <td>0</td>\n",
       "      <td>7.0000</td>\n",
       "      <td>S</td>\n",
       "      <td>0</td>\n",
       "      <td>0</td>\n",
       "      <td>0</td>\n",
       "      <td>1</td>\n",
       "    </tr>\n",
       "    <tr>\n",
       "      <th>2</th>\n",
       "      <td>894</td>\n",
       "      <td>2</td>\n",
       "      <td>male</td>\n",
       "      <td>62.0</td>\n",
       "      <td>0</td>\n",
       "      <td>0</td>\n",
       "      <td>9.6875</td>\n",
       "      <td>Q</td>\n",
       "      <td>1</td>\n",
       "      <td>0</td>\n",
       "      <td>1</td>\n",
       "      <td>0</td>\n",
       "    </tr>\n",
       "  </tbody>\n",
       "</table>\n",
       "</div>"
      ],
      "text/plain": [
       "   PassengerId  Pclass     Sex   Age  SibSp  Parch    Fare Embarked  \\\n",
       "0          892       3    male  34.5      0      0  7.8292        Q   \n",
       "1          893       3  female  47.0      1      0  7.0000        S   \n",
       "2          894       2    male  62.0      0      0  9.6875        Q   \n",
       "\n",
       "   MaleCheck  Embarked_C  Embarked_Q  Embarked_S  \n",
       "0          1           0           1           0  \n",
       "1          0           0           0           1  \n",
       "2          1           0           1           0  "
      ]
     },
     "execution_count": 15,
     "metadata": {},
     "output_type": "execute_result"
    }
   ],
   "source": [
    "teste.head(3)"
   ]
  },
  {
   "cell_type": "markdown",
   "id": "d16c0a9e",
   "metadata": {},
   "source": [
    "* Novamente, podemos aplicar as nossas bases nos modelos de Machine Learning\n",
    "    - É necessário retirar as colunas do tipo *object*"
   ]
  },
  {
   "cell_type": "code",
   "execution_count": 22,
   "id": "b176bcb8",
   "metadata": {},
   "outputs": [],
   "source": [
    "treino = treino.drop(['Sex', 'Embarked'], axis=1)\n",
    "teste = teste.drop(['Sex', 'Embarked'], axis=1)"
   ]
  },
  {
   "cell_type": "code",
   "execution_count": 23,
   "id": "3113f904",
   "metadata": {},
   "outputs": [],
   "source": [
    "from sklearn.model_selection import train_test_split"
   ]
  },
  {
   "cell_type": "code",
   "execution_count": 24,
   "id": "60f7d485",
   "metadata": {},
   "outputs": [],
   "source": [
    "X = treino.drop(['PassengerId', 'Survived'], axis=1)\n",
    "y = treino.Survived"
   ]
  },
  {
   "cell_type": "code",
   "execution_count": 25,
   "id": "1b1166f6",
   "metadata": {},
   "outputs": [],
   "source": [
    "X_train, X_val, y_train, y_val = train_test_split(X, y, test_size=0.33, random_state=42)"
   ]
  },
  {
   "cell_type": "markdown",
   "id": "77bab6a5",
   "metadata": {},
   "source": [
    "* Árvore de Decisão"
   ]
  },
  {
   "cell_type": "code",
   "execution_count": 26,
   "id": "3afce4a1",
   "metadata": {},
   "outputs": [],
   "source": [
    "from sklearn import tree"
   ]
  },
  {
   "cell_type": "code",
   "execution_count": 27,
   "id": "3b44f93d",
   "metadata": {},
   "outputs": [],
   "source": [
    "clf_ac = tree.DecisionTreeClassifier(random_state=42)\n",
    "clf_ac = clf_ac.fit(X_train, y_train)\n",
    "\n",
    "y_pred_ac = clf_ac.predict(X_val)"
   ]
  },
  {
   "cell_type": "markdown",
   "id": "9b7da7e1",
   "metadata": {},
   "source": [
    "* KNeighborsClassifier"
   ]
  },
  {
   "cell_type": "code",
   "execution_count": 28,
   "id": "908c5797",
   "metadata": {},
   "outputs": [],
   "source": [
    "from sklearn.neighbors import KNeighborsClassifier\n",
    "\n",
    "clf_knn = KNeighborsClassifier(n_neighbors=3)\n",
    "clf_knn = clf_knn.fit(X_train, y_train)\n",
    "\n",
    "y_pred_knn = clf_knn.predict(X_val)"
   ]
  },
  {
   "cell_type": "markdown",
   "id": "5b5d2837",
   "metadata": {},
   "source": [
    "* Regressão Logística"
   ]
  },
  {
   "cell_type": "code",
   "execution_count": 29,
   "id": "8606495d",
   "metadata": {},
   "outputs": [],
   "source": [
    "from sklearn.linear_model import LogisticRegression\n",
    "\n",
    "clf_rl = LogisticRegression(random_state=42, max_iter=1000)\n",
    "clf_rl = clf_rl.fit(X_train, y_train)\n",
    "\n",
    "y_pred_rl = clf_rl.predict(X_val)"
   ]
  },
  {
   "cell_type": "markdown",
   "id": "c106d213",
   "metadata": {},
   "source": [
    "* Avaliando a acurácia de cada modelo"
   ]
  },
  {
   "cell_type": "code",
   "execution_count": 30,
   "id": "c186633f",
   "metadata": {},
   "outputs": [],
   "source": [
    "from sklearn.metrics import accuracy_score"
   ]
  },
  {
   "cell_type": "code",
   "execution_count": null,
   "id": "b5fc5611",
   "metadata": {},
   "outputs": [
    {
     "data": {
      "text/plain": [
       "0.7491525423728813"
      ]
     },
     "execution_count": 32,
     "metadata": {},
     "output_type": "execute_result"
    }
   ],
   "source": [
    "as_ac = accuracy_score(y_val, y_pred_ac)\n",
    "\n",
    "as_ac"
   ]
  },
  {
   "cell_type": "code",
   "execution_count": 33,
   "id": "0c423bdd",
   "metadata": {},
   "outputs": [
    {
     "data": {
      "text/plain": [
       "0.7152542372881356"
      ]
     },
     "execution_count": 33,
     "metadata": {},
     "output_type": "execute_result"
    }
   ],
   "source": [
    "as_knn = accuracy_score(y_val, y_pred_knn)\n",
    "\n",
    "as_knn"
   ]
  },
  {
   "cell_type": "code",
   "execution_count": 37,
   "id": "7f973219",
   "metadata": {},
   "outputs": [
    {
     "data": {
      "text/plain": [
       "0.8169491525423729"
      ]
     },
     "execution_count": 37,
     "metadata": {},
     "output_type": "execute_result"
    }
   ],
   "source": [
    "as_rl = accuracy_score(y_val, y_pred_rl)\n",
    "\n",
    "as_rl"
   ]
  },
  {
   "cell_type": "markdown",
   "id": "21ad0825",
   "metadata": {},
   "source": [
    "* Salvando esses resultados em DataFrames"
   ]
  },
  {
   "cell_type": "code",
   "execution_count": 39,
   "id": "cde0ad11",
   "metadata": {},
   "outputs": [
    {
     "data": {
      "text/html": [
       "<div>\n",
       "<style scoped>\n",
       "    .dataframe tbody tr th:only-of-type {\n",
       "        vertical-align: middle;\n",
       "    }\n",
       "\n",
       "    .dataframe tbody tr th {\n",
       "        vertical-align: top;\n",
       "    }\n",
       "\n",
       "    .dataframe thead th {\n",
       "        text-align: right;\n",
       "    }\n",
       "</style>\n",
       "<table border=\"1\" class=\"dataframe\">\n",
       "  <thead>\n",
       "    <tr style=\"text-align: right;\">\n",
       "      <th></th>\n",
       "      <th>modelos</th>\n",
       "      <th>inicial</th>\n",
       "    </tr>\n",
       "  </thead>\n",
       "  <tbody>\n",
       "    <tr>\n",
       "      <th>0</th>\n",
       "      <td>arvore</td>\n",
       "      <td>0.749153</td>\n",
       "    </tr>\n",
       "    <tr>\n",
       "      <th>1</th>\n",
       "      <td>knn</td>\n",
       "      <td>0.715254</td>\n",
       "    </tr>\n",
       "    <tr>\n",
       "      <th>2</th>\n",
       "      <td>reg. log.</td>\n",
       "      <td>0.816949</td>\n",
       "    </tr>\n",
       "  </tbody>\n",
       "</table>\n",
       "</div>"
      ],
      "text/plain": [
       "     modelos   inicial\n",
       "0     arvore  0.749153\n",
       "1        knn  0.715254\n",
       "2  reg. log.  0.816949"
      ]
     },
     "execution_count": 39,
     "metadata": {},
     "output_type": "execute_result"
    }
   ],
   "source": [
    "as_df = pd.DataFrame({\n",
    "    'modelos': ['arvore', 'knn', 'reg. log.'],\n",
    "    'inicial': [as_ac, as_knn, as_rl]\n",
    "})\n",
    "\n",
    "as_df"
   ]
  },
  {
   "cell_type": "markdown",
   "id": "57b9a6f9",
   "metadata": {},
   "source": [
    "#### Analisando a escala dos dados"
   ]
  },
  {
   "cell_type": "code",
   "execution_count": 41,
   "id": "8e9ed780",
   "metadata": {},
   "outputs": [
    {
     "data": {
      "image/png": "[encoded data removed]",
      "text/plain": [
       "<Figure size 1500x500 with 1 Axes>"
      ]
     },
     "metadata": {},
     "output_type": "display_data"
    }
   ],
   "source": [
    "import matplotlib.pyplot as plt\n",
    "\n",
    "fig, ax = plt.subplots(figsize=(15,5))\n",
    "\n",
    "ax.boxplot(treino.iloc[:, 1:11])\n",
    "ax.set_xticks(range(1, treino.iloc[:, 1:11].shape[1]+1), treino.iloc[:, 1:11].columns)\n",
    "\n",
    "plt.show()"
   ]
  },
  {
   "cell_type": "markdown",
   "id": "cc0e589a",
   "metadata": {},
   "source": [
    "* Quando analisamos as features *Age* e *Fare* em comparação com as outras features, percebe-se que ambas estão fora de escala. O que isso significa?\n",
    "    - Os valores destas features estão em intervalos numéricos muito diferentes dos intervalos das outras features.\n",
    "    - Por que isso é relevante?\n",
    "        - Muitos algoritmos de Machine Learning (como Regressão Logística, KNN, SVM e Neural Networking) são muito sensíveis à escala dos dados:\n",
    "            - Features com valores maiores dominam as métricas de distância;\n",
    "            - O processo de otimização pode ficar mais difícil, onde os pesos (bias) associados às features fora de escala variam muito mais;\n",
    "\n",
    "    - Solução: aplicar normalização ou padronização\n",
    "        - Aqui vamos utilizar o **RobustScaler** -> ele trata os *outliers* destas features de maneira robusta, isto é, sem perder precisão"
   ]
  },
  {
   "cell_type": "markdown",
   "id": "6225ea19",
   "metadata": {},
   "source": [
    "* StandardScaler: $$z = \\frac{x - \\mu}{\\sigma},$$\n",
    "onde $\\mu$ é a média da feature e $\\sigma$ é o desvio padrão. Após reescalar, os dados ficam com média 0 e desvio padrão 1. \n",
    "    - Sensível a outliers: se houver valores muito extremos, a média e o desvio padrão são distorcidos.\n",
    "    - Bom para dados em perfil próximo de Gaussiano\n",
    "\n",
    "* RobustScaler: $$z = \\frac{x - med}{IQR},$$\n",
    "onde $$med$$ é a mediana da feature e $IQR = Q_3 - Q_1$ é o intervalor interquartílico, ou seja, a diferença entre o 3º e o 1º quartil. Após reescalar, os dados ficam centrados na mediana e escalados pelo $IQR$\n",
    "    - Mais robustos a outliers, porque a mediana e $IQR$ não são tão influenciados por valores extremos\n",
    "    - Bom para dados com perfil assimétrico"
   ]
  },
  {
   "cell_type": "code",
   "execution_count": 43,
   "id": "89cb29e9",
   "metadata": {},
   "outputs": [],
   "source": [
    "from sklearn.preprocessing import RobustScaler"
   ]
  },
  {
   "cell_type": "code",
   "execution_count": 44,
   "id": "84f0b154",
   "metadata": {},
   "outputs": [],
   "source": [
    "transformer = RobustScaler().fit(treino[['Age', 'Fare']])"
   ]
  },
  {
   "cell_type": "code",
   "execution_count": null,
   "id": "d5608adc",
   "metadata": {},
   "outputs": [
    {
     "data": {
      "text/plain": [
       "array([[-0.59223982, -0.3120106 ],\n",
       "       [ 0.63852941,  2.46124229],\n",
       "       [-0.28454751, -0.28277666],\n",
       "       ...,\n",
       "       [ 0.        ,  0.38960398],\n",
       "       [-0.28454751,  0.67328148],\n",
       "       [ 0.17699095, -0.29035583]])"
      ]
     },
     "execution_count": 45,
     "metadata": {},
     "output_type": "execute_result"
    }
   ],
   "source": [
    "transformer.transform(treino[['Age', 'Fare']])"
   ]
  },
  {
   "cell_type": "code",
   "execution_count": 46,
   "id": "05789fb8",
   "metadata": {},
   "outputs": [],
   "source": [
    "treino[['Age', 'Fare']] = transformer.transform(treino[['Age', 'Fare']])"
   ]
  },
  {
   "cell_type": "code",
   "execution_count": 47,
   "id": "bb62fcf8",
   "metadata": {},
   "outputs": [
    {
     "data": {
      "text/plain": [
       "array([[ 3.31561540e-01, -2.80670389e-01],\n",
       "       [ 1.31195370e+00, -3.15799731e-01],\n",
       "       [ 2.48842429e+00, -2.01942875e-01],\n",
       "       [-2.56673754e-01, -2.45367350e-01],\n",
       "       [-6.48830617e-01, -9.17929860e-02],\n",
       "       [-1.27628160e+00, -2.21536845e-01],\n",
       "       [-2.13796362e-02, -2.89143458e-01],\n",
       "       [-3.35105126e-01,  6.16237788e-01],\n",
       "       [-9.62556107e-01, -3.06089594e-01],\n",
       "       [-7.27261989e-01,  4.10765881e-01],\n",
       "       [ 0.00000000e+00, -2.77848857e-01],\n",
       "       [ 1.23352232e+00,  4.89141763e-01],\n",
       "       [-5.70399244e-01,  2.87289974e+00],\n",
       "       [ 2.56685566e+00,  4.89141763e-01],\n",
       "       [ 1.31195370e+00,  1.97934266e+00],\n",
       "       [-4.91967871e-01,  5.62044043e-01],\n",
       "       [ 3.70777227e-01, -8.91451521e-02],\n",
       "       [-7.27261989e-01, -3.06267529e-01],\n",
       "       [-2.56673754e-01, -2.76611789e-01],\n",
       "       [ 1.15509095e+00, -3.06267529e-01],\n",
       "       [ 1.93940468e+00,  1.90414418e+00],\n",
       "       [-1.66843846e+00, -4.78025097e-01],\n",
       "       [ 0.00000000e+00,  7.29916710e-01],\n",
       "       [-7.27261989e-01,  1.98799366e+00],\n",
       "       [ 1.39038507e+00,  1.05032494e+01],\n",
       "       [ 1.54724781e+00,  1.94033265e-03],\n",
       "       [-6.48830617e-01,  2.01341287e+00],\n",
       "       [-6.09614930e-01, -3.06267529e-01],\n",
       "       [ 8.41365462e-01,  6.79785801e-01],\n",
       "       [ 0.00000000e+00,  3.06089594e-01],\n",
       "       [ 1.54724781e+00,  4.89141763e-01],\n",
       "       [-4.91967871e-01,  7.22151143e-01],\n",
       "       [ 2.13914481e-01,  2.59309784e-01],\n",
       "       [ 0.00000000e+00,  3.81110141e-01],\n",
       "       [-2.13796362e-02,  1.83424136e+00],\n",
       "       [-9.23340421e-01, -3.06089594e-01],\n",
       "       [ 0.00000000e+00, -2.71316122e-01],\n",
       "       [-7.27261989e-01, -2.45367350e-01],\n",
       "       [-4.13536499e-01, -2.09886376e-01],\n",
       "       [ 0.00000000e+00,  1.78110675e+00],\n",
       "       [ 6.84502717e-01, -4.39540421e-02],\n",
       "       [ 0.00000000e+00,  5.12442701e-01],\n",
       "       [ 8.41365462e-01, -2.79789190e-01],\n",
       "       [-2.13796362e-02, -6.16076800e-02],\n",
       "       [ 1.15509095e+00,  1.61411952e+00],\n",
       "       [-4.13536499e-01, -2.76611789e-01],\n",
       "       [ 1.15509095e+00,  6.45893527e-01],\n",
       "       [ 0.00000000e+00, -2.84025724e-01],\n",
       "       [ 2.33156154e+00,  2.61976682e+00],\n",
       "       [ 4.49208599e-01,  6.12518111e-02],\n",
       "       [-4.91967871e-01,  1.92956338e+00],\n",
       "       [-2.56673754e-01,  2.45337694e-02],\n",
       "       [-8.05693362e-01,  3.62045738e-01],\n",
       "       [-1.78242381e-01,  1.05297278e+01],\n",
       "       [ 0.00000000e+00,  4.76610095e-02],\n",
       "       [-1.59000709e+00,  6.21533456e-01],\n",
       "       [ 3.70777227e-01, -2.77848857e-01],\n",
       "       [-4.13536499e-01, -2.88262258e-01],\n",
       "       [ 0.00000000e+00,  6.97248795e-02],\n",
       "       [ 4.49208599e-01,  1.05032494e+01],\n",
       "       [-1.04098748e+00, -2.77848857e-01],\n",
       "       [ 1.35483109e-01, -4.04250091e-02],\n",
       "       [-9.62556107e-01, -2.84025724e-01],\n",
       "       [-6.48830617e-01, -2.85084858e-01],\n",
       "       [-1.35471297e+00,  1.05032494e+01],\n",
       "       [ 0.00000000e+00,  2.77315054e-01],\n",
       "       [-9.62556107e-01, -2.78552122e-01],\n",
       "       [ 1.31195370e+00,  1.18393337e+00],\n",
       "       [ 5.70517364e-02,  5.96643818e-01],\n",
       "       [ 2.33156154e+00,  1.05297278e+01],\n",
       "       [-4.91967871e-01, -2.84025724e-01],\n",
       "       [-7.27261989e-01, -2.77848857e-01],\n",
       "       [-9.98110087e-02, -2.76611789e-01],\n",
       "       [-1.39026695e-01,  5.62044043e-01],\n",
       "       [ 3.70777227e-01,  8.34791266e+00],\n",
       "       [ 1.74698795e-01,  8.34791266e+00],\n",
       "       [ 0.00000000e+00, -2.71316122e-01],\n",
       "       [ 1.93940468e+00,  4.76432160e-01],\n",
       "       [-2.13796362e-02, -6.16076800e-02],\n",
       "       [-4.91967871e-01, -2.84025724e-01],\n",
       "       [-1.90373258e+00,  3.35364045e-02],\n",
       "       [ 2.88058115e+00,  8.78339448e+00],\n",
       "       [ 1.46881644e+00,  4.89141763e-01],\n",
       "       [ 0.00000000e+00, -2.77848857e-01],\n",
       "       [ 0.00000000e+00, -1.58696334e-01],\n",
       "       [ 0.00000000e+00,  0.00000000e+00],\n",
       "       [-2.56673754e-01, -2.78552122e-01],\n",
       "       [-9.62556107e-01, -2.71316122e-01],\n",
       "       [ 0.00000000e+00, -2.84025724e-01],\n",
       "       [-2.21745807e+00,  3.62045738e-01],\n",
       "       [-6.48830617e-01, -2.34788724e-02],\n",
       "       [ 0.00000000e+00, -2.82966591e-01],\n",
       "       [-2.56673754e-01,  1.59064065e+00],\n",
       "       [ 0.00000000e+00, -2.71316122e-01],\n",
       "       [-4.13536499e-01,  4.89141763e-01],\n",
       "       [-4.13536499e-01, -2.82085392e-01],\n",
       "       [ 3.58646350e+00,  2.72815007e+00],\n",
       "       [-9.98110087e-02, -2.76611789e-01],\n",
       "       [-8.05693362e-01, -2.79611256e-01],\n",
       "       [ 2.13914481e-01, -2.71316122e-01],\n",
       "       [ 9.98228207e-01,  1.73644945e+00],\n",
       "       [-2.56673754e-01,  4.89141763e-01],\n",
       "       [ 0.00000000e+00, -2.84025724e-01],\n",
       "       [-3.35105126e-01, -2.82966591e-01],\n",
       "       [-1.11941885e+00, -2.51544217e-01],\n",
       "       [-1.78242381e-01,  3.41922200e-01],\n",
       "       [-7.27261989e-01, -2.81026258e-01],\n",
       "       [ 0.00000000e+00, -2.84025724e-01],\n",
       "       [ 0.00000000e+00, -2.43249083e-01],\n",
       "       [-9.23340421e-01, -6.16076800e-02],\n",
       "       [ 8.41365462e-01,  2.50633362e-02],\n",
       "       [ 0.00000000e+00, -2.82788656e-01],\n",
       "       [ 4.49208599e-01,  7.29743012e-01],\n",
       "       [-9.23340421e-01, -3.03797629e-01],\n",
       "       [ 2.56685566e+00,  8.78339448e+00],\n",
       "       [-9.62556107e-01,  0.00000000e+00],\n",
       "       [ 0.00000000e+00, -3.39630235e-01],\n",
       "       [-2.29588944e+00,  9.51440845e-02],\n",
       "       [ 4.49208599e-01,  2.57528321e+00],\n",
       "       [-9.98110087e-02,  4.89141763e-01],\n",
       "       [-1.43314434e+00,  5.48970099e-02],\n",
       "       [ 0.00000000e+00, -2.84025724e-01],\n",
       "       [ 3.70777227e-01,  1.83424136e+00],\n",
       "       [-1.78242381e-01, -3.05208395e-01],\n",
       "       [ 0.00000000e+00, -2.84025724e-01],\n",
       "       [-1.04098748e+00,  6.97248795e-02],\n",
       "       [-6.48830617e-01, -2.82085392e-01],\n",
       "       [ 0.00000000e+00,  3.72637073e-01],\n",
       "       [ 9.19796834e-01, -6.16076800e-02],\n",
       "       [-4.91967871e-01, -2.71316122e-01],\n",
       "       [ 1.35483109e-01, -2.71316122e-01],\n",
       "       [ 1.78254193e+00,  5.95055117e-01],\n",
       "       [ 0.00000000e+00,  4.66548326e-01],\n",
       "       [ 0.00000000e+00, -3.39630235e-01],\n",
       "       [ 9.98228207e-01, -2.77848857e-01],\n",
       "       [-4.91967871e-01, -2.79611256e-01],\n",
       "       [-2.95889440e-01, -3.06267529e-01],\n",
       "       [-3.35105126e-01, -6.16076800e-02],\n",
       "       [-5.70399244e-01, -2.71316122e-01],\n",
       "       [ 7.62934089e-01,  1.37457741e+00],\n",
       "       [-1.59000709e+00,  1.37457741e+00],\n",
       "       [ 2.13914481e-01,  5.80811042e+00],\n",
       "       [ 2.40999291e+00,  1.05032494e+01],\n",
       "       [-1.78242381e-01,  4.89141763e-01],\n",
       "       [ 9.19796834e-01,  5.12442701e-01],\n",
       "       [ 5.70517364e-02,  1.50219029e-01],\n",
       "       [ 0.00000000e+00,  1.58481541e+00],\n",
       "       [-6.48830617e-01, -2.71316122e-01],\n",
       "       [ 0.00000000e+00,  5.12442701e-01],\n",
       "       [-2.13796362e-02,  4.89141763e-01],\n",
       "       [-5.70399244e-01,  2.91067268e+00],\n",
       "       [ 0.00000000e+00, -2.77848857e-01],\n",
       "       [ 2.37077723e+00,  8.97000893e-01],\n",
       "       [ 4.49208599e-01, -9.62074546e-02],\n",
       "       [-1.35471297e+00,  7.17385042e-01],\n",
       "       [-4.91967871e-01, -2.92498793e-01],\n",
       "       [-9.98110087e-02,  8.78339448e+00],\n",
       "       [-5.70399244e-01, -2.79611256e-01],\n",
       "       [ 9.19796834e-01,  5.12442701e-01],\n",
       "       [-3.35105126e-01, -2.87745401e-02],\n",
       "       [ 0.00000000e+00, -2.84733225e-01],\n",
       "       [-1.82530120e+00,  3.35364045e-02],\n",
       "       [-3.35105126e-01, -4.04250091e-02],\n",
       "       [ 0.00000000e+00, -3.15799731e-01],\n",
       "       [ 8.41365462e-01, -6.16076800e-02],\n",
       "       [-3.35105126e-01,  3.20739529e-01],\n",
       "       [ 1.39038507e+00,  1.52691470e+00],\n",
       "       [-9.62556107e-01,  8.43951500e-01],\n",
       "       [ 0.00000000e+00,  5.62044043e-01],\n",
       "       [-6.48830617e-01, -2.32657747e-01],\n",
       "       [ 0.00000000e+00, -2.92498793e-01],\n",
       "       [-2.56673754e-01, -3.06267529e-01],\n",
       "       [-5.70399244e-01, -2.34788724e-02],\n",
       "       [ 0.00000000e+00, -3.06089594e-01],\n",
       "       [ 7.62934089e-01,  7.17385042e-01],\n",
       "       [-1.19785022e+00,  1.03989121e+00],\n",
       "       [-8.05693362e-01,  9.44569187e-01],\n",
       "       [ 1.86097330e+00,  1.73644945e+00],\n",
       "       [ 4.49208599e-01,  1.03989121e+00],\n",
       "       [ 2.64528703e+00,  2.91067268e+00],\n",
       "       [-2.13796362e-02, -6.16076800e-02],\n",
       "       [ 5.27639972e-01,  2.91067268e+00],\n",
       "       [-9.62556107e-01,  1.63724252e+00],\n",
       "       [ 0.00000000e+00, -2.84025724e-01],\n",
       "       [-2.56673754e-01,  9.87394616e+00],\n",
       "       [ 7.62934089e-01,  6.54883453e-02],\n",
       "       [-7.27261989e-01,  2.77315054e-01],\n",
       "       [-1.04098748e+00, -2.71316122e-01],\n",
       "       [ 0.00000000e+00,  2.33415240e+00],\n",
       "       [ 7.62934089e-01, -6.16076800e-02],\n",
       "       [ 2.92345854e-01,  4.89141763e-01],\n",
       "       [ 0.00000000e+00,  4.89141763e-01],\n",
       "       [-1.47236003e+00,  1.94033265e-03],\n",
       "       [ 2.40999291e+00, -8.91451521e-02],\n",
       "       [-1.74686983e+00,  7.64516484e-01],\n",
       "       [ 2.13914481e-01, -2.79611256e-01],\n",
       "       [-1.90373258e+00,  5.08578134e+00],\n",
       "       [-9.62556107e-01, -2.82966591e-01],\n",
       "       [-5.70399244e-01, -1.67521034e-01],\n",
       "       [ 0.00000000e+00, -2.68668288e-01],\n",
       "       [ 0.00000000e+00,  4.43056744e-02],\n",
       "       [-2.34843846e+00, -2.29620152e-03],\n",
       "       [ 1.31195370e+00,  9.02681726e+00],\n",
       "       [-1.74686983e+00,  4.89141763e-01],\n",
       "       [-4.13536499e-01, -1.67521034e-01],\n",
       "       [ 0.00000000e+00,  4.78198795e-01],\n",
       "       [ 3.70777227e-01, -2.84025724e-01],\n",
       "       [-4.91967871e-01, -1.67521034e-01],\n",
       "       [ 2.13914481e-01,  5.62044043e-01],\n",
       "       [-4.13536499e-01, -2.77848857e-01],\n",
       "       [ 1.35483109e-01,  3.41922200e-01],\n",
       "       [ 0.00000000e+00, -3.13681463e-01],\n",
       "       [-1.04098748e+00,  2.50149550e+00],\n",
       "       [ 2.33156154e+00,  4.89141763e-01],\n",
       "       [ 6.06071344e-01, -2.82966591e-01],\n",
       "       [ 9.19796834e-01,  1.18816990e+00],\n",
       "       [ 0.00000000e+00, -2.78552122e-01],\n",
       "       [ 2.09626742e+00,  6.37227697e+00],\n",
       "       [ 1.54724781e+00,  8.34791266e+00],\n",
       "       [ 0.00000000e+00, -2.71316122e-01],\n",
       "       [-2.13796362e-02, -2.52455072e-02],\n",
       "       [-7.27261989e-01, -2.71316122e-01],\n",
       "       [-6.48830617e-01, -1.67521034e-01],\n",
       "       [-7.27261989e-01, -2.82085392e-01],\n",
       "       [ 1.78254193e+00,  5.50393574e-01],\n",
       "       [ 0.00000000e+00,  3.35364045e-02],\n",
       "       [-5.70399244e-01, -2.82085392e-01],\n",
       "       [ 0.00000000e+00, -2.84025724e-01],\n",
       "       [ 8.02149776e-01,  2.73595377e-02],\n",
       "       [ 4.49208599e-01, -6.16076800e-02],\n",
       "       [-1.27628160e+00,  2.14139009e+00],\n",
       "       [-7.27261989e-01,  5.12442701e-01],\n",
       "       [-7.27261989e-01, -3.37160336e-01],\n",
       "       [ 0.00000000e+00, -2.78552122e-01],\n",
       "       [ 6.84502717e-01,  2.40758424e+00],\n",
       "       [-8.05693362e-01, -2.79611256e-01],\n",
       "       [ 2.64528703e+00,  2.57563484e+00],\n",
       "       [-8.05693362e-01, -3.06267529e-01],\n",
       "       [-9.62556107e-01, -6.16076800e-02],\n",
       "       [ 1.39038507e+00,  3.89637437e+00],\n",
       "       [ 1.93940468e+00,  5.62044043e-01],\n",
       "       [ 1.15509095e+00,  6.58603130e-01],\n",
       "       [ 1.15509095e+00,  5.08578134e+00],\n",
       "       [ 0.00000000e+00, -2.78200490e-01],\n",
       "       [ 0.00000000e+00,  3.81110141e-01],\n",
       "       [ 8.41365462e-01,  1.58481541e+00],\n",
       "       [-6.48830617e-01,  2.77315054e-01],\n",
       "       [ 9.19796834e-01,  7.64516484e-01],\n",
       "       [-9.98110087e-02,  4.89141763e-01],\n",
       "       [ 0.00000000e+00,  0.00000000e+00],\n",
       "       [-2.30216395e+00,  5.63281111e-01],\n",
       "       [-8.05693362e-01, -2.76611789e-01],\n",
       "       [-2.56673754e-01,  5.18234043e+00],\n",
       "       [-4.91967871e-01, -2.17300311e-01],\n",
       "       [ 1.74698795e-01, -2.09886376e-01],\n",
       "       [ 0.00000000e+00, -2.92498793e-01],\n",
       "       [ 0.00000000e+00, -2.84025724e-01],\n",
       "       [-1.78242381e-01, -2.71316122e-01],\n",
       "       [-8.84124734e-01, -6.16076800e-02],\n",
       "       [-7.27261989e-01, -2.82966591e-01],\n",
       "       [ 4.88424285e-01,  1.24799824e-01],\n",
       "       [-7.27261989e-01, -2.79611256e-01],\n",
       "       [-9.98110087e-02,  3.62045738e-01],\n",
       "       [-2.29588944e+00, -9.62074546e-02],\n",
       "       [-2.13796362e-02, -7.27285822e-02],\n",
       "       [ 0.00000000e+00, -2.77848857e-01],\n",
       "       [ 0.00000000e+00, -6.12357123e-01],\n",
       "       [ 0.00000000e+00, -2.92498793e-01],\n",
       "       [ 0.00000000e+00, -2.71316122e-01],\n",
       "       [-1.04098748e+00, -2.45367350e-01],\n",
       "       [ 1.23352232e+00,  2.57528321e+00],\n",
       "       [ 0.00000000e+00, -2.84025724e-01],\n",
       "       [-3.35105126e-01,  5.18234043e+00],\n",
       "       [ 0.00000000e+00,  4.43056744e-02],\n",
       "       [ 0.00000000e+00, -3.06267529e-01],\n",
       "       [-8.05693362e-01,  4.89141763e-01],\n",
       "       [-1.78242381e-01, -1.67521034e-01],\n",
       "       [ 7.62934089e-01,  4.89141763e-01],\n",
       "       [-2.13796362e-02,  2.77315054e-01],\n",
       "       [-6.48830617e-01, -1.67521034e-01],\n",
       "       [-5.70399244e-01, -2.45367350e-01],\n",
       "       [-2.31549728e+00, -2.87745401e-02],\n",
       "       [ 0.00000000e+00, -2.84025724e-01],\n",
       "       [-1.66843846e+00,  3.35364045e-02],\n",
       "       [-2.21745807e+00,  2.43952347e-01],\n",
       "       [ 4.49208599e-01, -3.05208395e-01],\n",
       "       [ 0.00000000e+00, -3.05208395e-01],\n",
       "       [-4.91967871e-01,  2.87289974e+00],\n",
       "       [ 0.00000000e+00, -3.06089594e-01],\n",
       "       [ 0.00000000e+00, -2.71316122e-01],\n",
       "       [ 0.00000000e+00,  1.06531041e+00],\n",
       "       [-2.13796362e-02, -3.17917998e-01],\n",
       "       [ 0.00000000e+00, -3.06089594e-01],\n",
       "       [ 1.78254193e+00,  2.85559773e+00],\n",
       "       [ 4.49208599e-01, -2.09886376e-01],\n",
       "       [-3.35105126e-01, -2.77848857e-01],\n",
       "       [-2.29588944e+00,  1.14915990e+00],\n",
       "       [ 0.00000000e+00,  3.06089594e-01],\n",
       "       [-2.13796362e-02,  1.31526593e+00],\n",
       "       [-9.98110087e-02, -2.79611256e-01],\n",
       "       [ 1.35483109e-01, -2.82966591e-01],\n",
       "       [ 0.00000000e+00,  2.50633362e-02],\n",
       "       [ 9.98228207e-01,  2.77315054e-01],\n",
       "       [-4.91967871e-01, -2.45367350e-01],\n",
       "       [ 0.00000000e+00, -2.84025724e-01],\n",
       "       [ 2.64528703e+00,  5.12442701e-01],\n",
       "       [-2.13796362e-02,  5.80811042e+00],\n",
       "       [-2.30922277e+00, -2.16241177e-01],\n",
       "       [ 1.93940468e+00,  3.34880233e+00],\n",
       "       [ 1.15509095e+00, -1.46541717e-02],\n",
       "       [-9.62556107e-01, -2.45367350e-01],\n",
       "       [-6.48830617e-01, -3.06267529e-01],\n",
       "       [ 0.00000000e+00, -2.91439659e-01],\n",
       "       [ 5.27639972e-01, -2.84025724e-01],\n",
       "       [ 1.93940468e+00,  5.13379399e+00],\n",
       "       [-1.04098748e+00, -2.84733225e-01],\n",
       "       [ 2.09626742e+00,  5.59504664e+00],\n",
       "       [-8.84124734e-01, -1.67521034e-01],\n",
       "       [-2.56673754e-01, -2.79611256e-01],\n",
       "       [-6.48830617e-01,  7.22151143e-01],\n",
       "       [-3.35105126e-01, -2.82966591e-01],\n",
       "       [-4.13536499e-01, -3.06089594e-01],\n",
       "       [-3.35105126e-01, -6.16076800e-02],\n",
       "       [ 2.13914481e-01,  5.12442701e-01],\n",
       "       [ 6.84502717e-01,  8.34102829e+00],\n",
       "       [-5.70399244e-01, -3.13681463e-01],\n",
       "       [-1.43314434e+00,  1.03989121e+00],\n",
       "       [ 1.23352232e+00,  2.74297794e+00],\n",
       "       [-9.98110087e-02,  4.89141763e-01],\n",
       "       [-7.27261989e-01, -6.16076800e-02],\n",
       "       [ 1.39038507e+00,  9.44569187e-01],\n",
       "       [ 6.84502717e-01,  6.45893527e-01],\n",
       "       [ 0.00000000e+00, -3.06267529e-01],\n",
       "       [-8.84124734e-01,  5.45453775e-02],\n",
       "       [-2.56673754e-01, -2.77848857e-01],\n",
       "       [-2.13796362e-02,  4.89141763e-01],\n",
       "       [ 1.35483109e-01, -6.16076800e-02],\n",
       "       [ 6.84502717e-01, -3.06089594e-01],\n",
       "       [-4.13536499e-01,  7.22151143e-01],\n",
       "       [ 0.00000000e+00, -3.06089594e-01],\n",
       "       [-9.62556107e-01, -1.67521034e-01],\n",
       "       [ 1.35483109e-01, -2.91261725e-01],\n",
       "       [ 0.00000000e+00,  2.33415240e+00],\n",
       "       [ 2.17469880e+00,  2.10926445e+01],\n",
       "       [ 0.00000000e+00,  1.94033265e-03],\n",
       "       [-1.11941885e+00, -2.88262258e-01],\n",
       "       [-3.35105126e-01, -6.16076800e-02],\n",
       "       [ 6.06071344e-01, -3.06089594e-01],\n",
       "       [-4.91967871e-01, -4.04250091e-02],\n",
       "       [ 5.70517364e-02,  2.77315054e-01],\n",
       "       [ 1.15509095e+00,  2.07183891e+00],\n",
       "       [-4.13536499e-01, -1.67521034e-01],\n",
       "       [-9.62556107e-01,  2.50149550e+00],\n",
       "       [ 1.46881644e+00,  2.14139009e+00],\n",
       "       [-2.36098748e+00,  2.59309784e-01],\n",
       "       [ 1.54724781e+00,  4.89141763e-01],\n",
       "       [ 2.25313017e+00,  1.56857678e+00],\n",
       "       [ 0.00000000e+00, -2.78552122e-01],\n",
       "       [ 0.00000000e+00, -2.84025724e-01],\n",
       "       [-2.13796362e-02,  4.64239415e-02],\n",
       "       [-1.23706591e+00,  2.33415240e+00],\n",
       "       [-4.91967871e-01,  9.55338457e-01],\n",
       "       [ 5.70517364e-02,  2.77315054e-01],\n",
       "       [-2.56673754e-01, -2.45367350e-01],\n",
       "       [-4.13536499e-01,  1.73644945e+00],\n",
       "       [ 0.00000000e+00,  2.33415240e+00],\n",
       "       [ 0.00000000e+00,  1.73697901e-04],\n",
       "       [-6.48830617e-01,  1.06901738e+00],\n",
       "       [ 1.15509095e+00,  1.90414418e+00],\n",
       "       [-9.98110087e-02, -2.52455072e-02],\n",
       "       [-7.27261989e-01, -1.25155693e-01],\n",
       "       [ 5.70517364e-02,  5.08578134e+00],\n",
       "       [ 1.46881644e+00, -6.12357123e-01],\n",
       "       [ 1.07665958e+00, -6.16076800e-02],\n",
       "       [ 1.86097330e+00,  2.85559773e+00],\n",
       "       [ 1.15509095e+00,  1.05032494e+01],\n",
       "       [-6.48830617e-01, -2.45367350e-01],\n",
       "       [-7.27261989e-01, -1.25155693e-01],\n",
       "       [ 1.93940468e+00,  1.50590997e+00],\n",
       "       [-1.98216395e+00,  7.17385042e-01],\n",
       "       [ 0.00000000e+00, -2.84025724e-01],\n",
       "       [-3.35105126e-01, -2.78552122e-01],\n",
       "       [ 0.00000000e+00,  1.94033265e-03],\n",
       "       [-8.84124734e-01,  6.97248795e-02],\n",
       "       [ 0.00000000e+00, -6.69033477e-02],\n",
       "       [-4.91967871e-01,  2.14139009e+00],\n",
       "       [-4.91967871e-01, -2.82966591e-01],\n",
       "       [ 2.09626742e+00, -6.16076800e-02],\n",
       "       [-7.27261989e-01, -2.84025724e-01],\n",
       "       [-1.90373258e+00,  2.80492455e-01],\n",
       "       [-5.70399244e-01,  3.34880233e+00],\n",
       "       [ 1.62567919e+00,  1.05683734e+00],\n",
       "       [-1.35471297e+00,  2.45541048e-01],\n",
       "       [ 1.31195370e+00, -1.67521034e-01],\n",
       "       [-9.98110087e-02,  3.20739529e-01],\n",
       "       [-9.62556107e-01,  1.92956338e+00],\n",
       "       [-4.91967871e-01, -3.05208395e-01],\n",
       "       [ 1.39038507e+00,  2.74297794e+00],\n",
       "       [-6.48830617e-01, -2.82966591e-01],\n",
       "       [ 5.70517364e-02, -2.84733225e-01],\n",
       "       [-2.13796362e-02,  6.37227697e+00],\n",
       "       [ 6.06071344e-01,  2.77315054e-01],\n",
       "       [-6.48830617e-01,  1.90414418e+00],\n",
       "       [-1.04098748e+00,  1.38305047e+00],\n",
       "       [ 9.98228207e-01,  5.62044043e-01],\n",
       "       [-8.05693362e-01, -2.50675727e-02],\n",
       "       [-5.70399244e-01, -1.67521034e-01],\n",
       "       [ 1.54724781e+00,  8.34791266e+00],\n",
       "       [ 0.00000000e+00, -2.85262792e-01],\n",
       "       [-2.13902670e+00, -2.87745401e-02],\n",
       "       [ 0.00000000e+00, -2.84025724e-01],\n",
       "       [ 5.27639972e-01,  3.20052364e+00],\n",
       "       [-1.78242381e-01, -2.82966591e-01],\n",
       "       [ 0.00000000e+00, -2.71316122e-01],\n",
       "       [ 6.84502717e-01,  4.00122859e+00],\n",
       "       [ 6.45287030e-01, -3.05208395e-01],\n",
       "       [ 0.00000000e+00, -2.71316122e-01],\n",
       "       [ 0.00000000e+00,  3.34859898e-01]])"
      ]
     },
     "execution_count": 47,
     "metadata": {},
     "output_type": "execute_result"
    }
   ],
   "source": [
    "# Base de teste\n",
    "transformer_teste = RobustScaler().fit(teste[['Age', 'Fare']])\n",
    "transformer_teste.transform(teste[['Age', 'Fare']])"
   ]
  },
  {
   "cell_type": "code",
   "execution_count": 49,
   "id": "89fd41b6",
   "metadata": {},
   "outputs": [],
   "source": [
    "teste[['Age', 'Fare']] = transformer_teste.transform(teste[['Age', 'Fare']])"
   ]
  },
  {
   "cell_type": "code",
   "execution_count": 50,
   "id": "da0d20d1",
   "metadata": {},
   "outputs": [
    {
     "data": {
      "image/png": "[encoded data removed]",
      "text/plain": [
       "<Figure size 1500x500 with 1 Axes>"
      ]
     },
     "metadata": {},
     "output_type": "display_data"
    }
   ],
   "source": [
    "import matplotlib.pyplot as plt\n",
    "\n",
    "fig, ax = plt.subplots(figsize=(15,5))\n",
    "\n",
    "ax.boxplot(treino.iloc[:, 1:11])\n",
    "ax.set_xticks(range(1, treino.iloc[:, 1:11].shape[1]+1), treino.iloc[:, 1:11].columns)\n",
    "\n",
    "plt.show()"
   ]
  },
  {
   "cell_type": "code",
   "execution_count": 51,
   "id": "247c1d59",
   "metadata": {},
   "outputs": [
    {
     "data": {
      "text/html": [
       "<div>\n",
       "<style scoped>\n",
       "    .dataframe tbody tr th:only-of-type {\n",
       "        vertical-align: middle;\n",
       "    }\n",
       "\n",
       "    .dataframe tbody tr th {\n",
       "        vertical-align: top;\n",
       "    }\n",
       "\n",
       "    .dataframe thead th {\n",
       "        text-align: right;\n",
       "    }\n",
       "</style>\n",
       "<table border=\"1\" class=\"dataframe\">\n",
       "  <thead>\n",
       "    <tr style=\"text-align: right;\">\n",
       "      <th></th>\n",
       "      <th>PassengerId</th>\n",
       "      <th>Survived</th>\n",
       "      <th>Pclass</th>\n",
       "      <th>Age</th>\n",
       "      <th>SibSp</th>\n",
       "      <th>Parch</th>\n",
       "      <th>Fare</th>\n",
       "      <th>MaleCheck</th>\n",
       "      <th>Embarked_C</th>\n",
       "      <th>Embarked_Q</th>\n",
       "      <th>Embarked_S</th>\n",
       "    </tr>\n",
       "  </thead>\n",
       "  <tbody>\n",
       "    <tr>\n",
       "      <th>0</th>\n",
       "      <td>1</td>\n",
       "      <td>0</td>\n",
       "      <td>3</td>\n",
       "      <td>-0.592240</td>\n",
       "      <td>1</td>\n",
       "      <td>0</td>\n",
       "      <td>-0.312011</td>\n",
       "      <td>1</td>\n",
       "      <td>0</td>\n",
       "      <td>0</td>\n",
       "      <td>1</td>\n",
       "    </tr>\n",
       "    <tr>\n",
       "      <th>1</th>\n",
       "      <td>2</td>\n",
       "      <td>1</td>\n",
       "      <td>1</td>\n",
       "      <td>0.638529</td>\n",
       "      <td>1</td>\n",
       "      <td>0</td>\n",
       "      <td>2.461242</td>\n",
       "      <td>0</td>\n",
       "      <td>1</td>\n",
       "      <td>0</td>\n",
       "      <td>0</td>\n",
       "    </tr>\n",
       "    <tr>\n",
       "      <th>2</th>\n",
       "      <td>3</td>\n",
       "      <td>1</td>\n",
       "      <td>3</td>\n",
       "      <td>-0.284548</td>\n",
       "      <td>0</td>\n",
       "      <td>0</td>\n",
       "      <td>-0.282777</td>\n",
       "      <td>0</td>\n",
       "      <td>0</td>\n",
       "      <td>0</td>\n",
       "      <td>1</td>\n",
       "    </tr>\n",
       "  </tbody>\n",
       "</table>\n",
       "</div>"
      ],
      "text/plain": [
       "   PassengerId  Survived  Pclass       Age  SibSp  Parch      Fare  MaleCheck  \\\n",
       "0            1         0       3 -0.592240      1      0 -0.312011          1   \n",
       "1            2         1       1  0.638529      1      0  2.461242          0   \n",
       "2            3         1       3 -0.284548      0      0 -0.282777          0   \n",
       "\n",
       "   Embarked_C  Embarked_Q  Embarked_S  \n",
       "0           0           0           1  \n",
       "1           1           0           0  \n",
       "2           0           0           1  "
      ]
     },
     "execution_count": 51,
     "metadata": {},
     "output_type": "execute_result"
    }
   ],
   "source": [
    "treino.head(3)"
   ]
  },
  {
   "cell_type": "markdown",
   "id": "35eb0271",
   "metadata": {},
   "source": [
    "* Realizando o treinamneto do modelo após reescalar os dados "
   ]
  },
  {
   "cell_type": "code",
   "execution_count": 56,
   "id": "c29dd123",
   "metadata": {},
   "outputs": [],
   "source": [
    "from sklearn.model_selection import train_test_split\n",
    "\n",
    "from sklearn.metrics import accuracy_score"
   ]
  },
  {
   "cell_type": "code",
   "execution_count": 57,
   "id": "f7fb2b50",
   "metadata": {},
   "outputs": [],
   "source": [
    "X = treino.drop(['PassengerId', 'Survived'], axis=1)\n",
    "y = treino.Survived"
   ]
  },
  {
   "cell_type": "code",
   "execution_count": 58,
   "id": "b394bbfa",
   "metadata": {},
   "outputs": [],
   "source": [
    "X_train, X_val, y_train, y_val = train_test_split(X, y, test_size=0.33, random_state=42)"
   ]
  },
  {
   "cell_type": "markdown",
   "id": "46b193f0",
   "metadata": {},
   "source": [
    "* Árvore de Decisão"
   ]
  },
  {
   "cell_type": "code",
   "execution_count": 59,
   "id": "bc773376",
   "metadata": {},
   "outputs": [
    {
     "data": {
      "text/plain": [
       "0.7491525423728813"
      ]
     },
     "execution_count": 59,
     "metadata": {},
     "output_type": "execute_result"
    }
   ],
   "source": [
    "from sklearn import tree\n",
    "\n",
    "clf_ac = tree.DecisionTreeClassifier(random_state=42)\n",
    "clf_ac = clf_ac.fit(X_train, y_train)\n",
    "\n",
    "y_pred_ac = clf_ac.predict(X_val)\n",
    "\n",
    "as_ac = accuracy_score(y_val, y_pred_ac)\n",
    "\n",
    "as_ac"
   ]
  },
  {
   "cell_type": "markdown",
   "id": "1734f5c7",
   "metadata": {},
   "source": [
    "* KNeighborsClassifier"
   ]
  },
  {
   "cell_type": "code",
   "execution_count": 60,
   "id": "e1cd6449",
   "metadata": {},
   "outputs": [
    {
     "data": {
      "text/plain": [
       "0.8"
      ]
     },
     "execution_count": 60,
     "metadata": {},
     "output_type": "execute_result"
    }
   ],
   "source": [
    "from sklearn.neighbors import KNeighborsClassifier\n",
    "\n",
    "clf_knn = KNeighborsClassifier(n_neighbors=3)\n",
    "clf_knn = clf_knn.fit(X_train, y_train)\n",
    "\n",
    "y_pred_knn = clf_knn.predict(X_val)\n",
    "\n",
    "as_knn = accuracy_score(y_val, y_pred_knn)\n",
    "\n",
    "as_knn"
   ]
  },
  {
   "cell_type": "markdown",
   "id": "a39f6fc3",
   "metadata": {},
   "source": [
    "* Regressão Logística"
   ]
  },
  {
   "cell_type": "code",
   "execution_count": 61,
   "id": "9b81d0b1",
   "metadata": {},
   "outputs": [
    {
     "data": {
      "text/plain": [
       "0.8169491525423729"
      ]
     },
     "execution_count": 61,
     "metadata": {},
     "output_type": "execute_result"
    }
   ],
   "source": [
    "from sklearn.linear_model import LogisticRegression\n",
    "\n",
    "clf_rl = LogisticRegression(random_state=42, max_iter=1000)\n",
    "clf_rl = clf_rl.fit(X_train, y_train)\n",
    "\n",
    "y_pred_rl = clf_rl.predict(X_val)\n",
    "\n",
    "as_rl = accuracy_score(y_val, y_pred_rl)\n",
    "\n",
    "as_rl"
   ]
  },
  {
   "cell_type": "code",
   "execution_count": 62,
   "id": "32175611",
   "metadata": {},
   "outputs": [
    {
     "data": {
      "text/html": [
       "<div>\n",
       "<style scoped>\n",
       "    .dataframe tbody tr th:only-of-type {\n",
       "        vertical-align: middle;\n",
       "    }\n",
       "\n",
       "    .dataframe tbody tr th {\n",
       "        vertical-align: top;\n",
       "    }\n",
       "\n",
       "    .dataframe thead th {\n",
       "        text-align: right;\n",
       "    }\n",
       "</style>\n",
       "<table border=\"1\" class=\"dataframe\">\n",
       "  <thead>\n",
       "    <tr style=\"text-align: right;\">\n",
       "      <th></th>\n",
       "      <th>modelos</th>\n",
       "      <th>inicial</th>\n",
       "      <th>escala</th>\n",
       "    </tr>\n",
       "  </thead>\n",
       "  <tbody>\n",
       "    <tr>\n",
       "      <th>0</th>\n",
       "      <td>arvore</td>\n",
       "      <td>0.749153</td>\n",
       "      <td>0.749153</td>\n",
       "    </tr>\n",
       "    <tr>\n",
       "      <th>1</th>\n",
       "      <td>knn</td>\n",
       "      <td>0.715254</td>\n",
       "      <td>0.800000</td>\n",
       "    </tr>\n",
       "    <tr>\n",
       "      <th>2</th>\n",
       "      <td>reg. log.</td>\n",
       "      <td>0.816949</td>\n",
       "      <td>0.816949</td>\n",
       "    </tr>\n",
       "  </tbody>\n",
       "</table>\n",
       "</div>"
      ],
      "text/plain": [
       "     modelos   inicial    escala\n",
       "0     arvore  0.749153  0.749153\n",
       "1        knn  0.715254  0.800000\n",
       "2  reg. log.  0.816949  0.816949"
      ]
     },
     "execution_count": 62,
     "metadata": {},
     "output_type": "execute_result"
    }
   ],
   "source": [
    "as_df['escala'] = [as_ac, as_knn, as_rl]\n",
    "\n",
    "as_df"
   ]
  },
  {
   "cell_type": "markdown",
   "id": "c1d7039d",
   "metadata": {},
   "source": [
    "* Nota-se que, o modelo de Árvore de Decisão não se alterou, já que não depende de distância entre pontos para classificar, entretanto, apesar da Regressão Logística dependender da distância entre valores e reais e previstos, aqui não houve umudanças. Já para o caso do modelo KNN, o qual depende fortemente das distânicas, entender e reestruturar a escala da base de dados foi essencial para aumentar a acurácia do modelo."
   ]
  },
  {
   "cell_type": "markdown",
   "id": "91a00492",
   "metadata": {},
   "source": [
    "#### Analisando outras features\n",
    "\n",
    "* Como podemos perceber, desde a análise realizada na Parte1, não utilizamos ou entramos afundo das features SibSp e Parch\n",
    "    - SibSp: número de irmãos/cônjuges a bordo do Titanic\n",
    "    - Parch: número de pais/filhos a bordo do Titanic\n",
    "\n",
    "* Podemos tentar entender como essas duas features influenciam na taxa de sobrevivência ao desastre do Titanic"
   ]
  },
  {
   "cell_type": "code",
   "execution_count": null,
   "id": "61cb107c",
   "metadata": {},
   "outputs": [
    {
     "data": {
      "text/plain": [
       "SibSp\n",
       "0    0.345395\n",
       "1    0.535885\n",
       "2    0.464286\n",
       "3    0.250000\n",
       "4    0.166667\n",
       "5    0.000000\n",
       "8    0.000000\n",
       "Name: Survived, dtype: float64"
      ]
     },
     "execution_count": 64,
     "metadata": {},
     "output_type": "execute_result"
    }
   ],
   "source": [
    "# Verificando a sobrevivência para SibS\n",
    "\n",
    "treino.groupby('SibSp')['Survived'].mean()"
   ]
  },
  {
   "cell_type": "markdown",
   "id": "5d67e1bb",
   "metadata": {},
   "source": [
    "* Este resultado é entendido como:\n",
    "    - Das pessoas que viajavam sozinhas (SibSp = 0), ~34% sobreviveram\n",
    "    - Das pessoas que viajavam com *pelo menos* uma pessoa (SibSp = 1), ~53% sobreviveram\n",
    "    - E se estende para os outros\n",
    "\n",
    "* Podemos ter uma análise prévia destes valores: em um desastre como o do Titanic, a tendência é que Mulheres e Crianças sejam salvas. Para a época, mulheres não poderiam viajar sozinhas, logo elas estariam acomaphadas, assim como crianças."
   ]
  },
  {
   "cell_type": "code",
   "execution_count": 65,
   "id": "f50534e1",
   "metadata": {},
   "outputs": [
    {
     "data": {
      "text/html": [
       "<div>\n",
       "<style scoped>\n",
       "    .dataframe tbody tr th:only-of-type {\n",
       "        vertical-align: middle;\n",
       "    }\n",
       "\n",
       "    .dataframe tbody tr th {\n",
       "        vertical-align: top;\n",
       "    }\n",
       "\n",
       "    .dataframe thead th {\n",
       "        text-align: right;\n",
       "    }\n",
       "</style>\n",
       "<table border=\"1\" class=\"dataframe\">\n",
       "  <thead>\n",
       "    <tr style=\"text-align: right;\">\n",
       "      <th></th>\n",
       "      <th>sum</th>\n",
       "      <th>count</th>\n",
       "      <th>mean</th>\n",
       "    </tr>\n",
       "    <tr>\n",
       "      <th>SibSp</th>\n",
       "      <th></th>\n",
       "      <th></th>\n",
       "      <th></th>\n",
       "    </tr>\n",
       "  </thead>\n",
       "  <tbody>\n",
       "    <tr>\n",
       "      <th>0</th>\n",
       "      <td>210</td>\n",
       "      <td>608</td>\n",
       "      <td>0.345395</td>\n",
       "    </tr>\n",
       "    <tr>\n",
       "      <th>1</th>\n",
       "      <td>112</td>\n",
       "      <td>209</td>\n",
       "      <td>0.535885</td>\n",
       "    </tr>\n",
       "    <tr>\n",
       "      <th>2</th>\n",
       "      <td>13</td>\n",
       "      <td>28</td>\n",
       "      <td>0.464286</td>\n",
       "    </tr>\n",
       "    <tr>\n",
       "      <th>3</th>\n",
       "      <td>4</td>\n",
       "      <td>16</td>\n",
       "      <td>0.250000</td>\n",
       "    </tr>\n",
       "    <tr>\n",
       "      <th>4</th>\n",
       "      <td>3</td>\n",
       "      <td>18</td>\n",
       "      <td>0.166667</td>\n",
       "    </tr>\n",
       "    <tr>\n",
       "      <th>5</th>\n",
       "      <td>0</td>\n",
       "      <td>5</td>\n",
       "      <td>0.000000</td>\n",
       "    </tr>\n",
       "    <tr>\n",
       "      <th>8</th>\n",
       "      <td>0</td>\n",
       "      <td>7</td>\n",
       "      <td>0.000000</td>\n",
       "    </tr>\n",
       "  </tbody>\n",
       "</table>\n",
       "</div>"
      ],
      "text/plain": [
       "       sum  count      mean\n",
       "SibSp                      \n",
       "0      210    608  0.345395\n",
       "1      112    209  0.535885\n",
       "2       13     28  0.464286\n",
       "3        4     16  0.250000\n",
       "4        3     18  0.166667\n",
       "5        0      5  0.000000\n",
       "8        0      7  0.000000"
      ]
     },
     "execution_count": 65,
     "metadata": {},
     "output_type": "execute_result"
    }
   ],
   "source": [
    "treino.groupby('SibSp')['Survived'].agg(['sum', 'count', 'mean'])"
   ]
  },
  {
   "cell_type": "markdown",
   "id": "782bc76b",
   "metadata": {},
   "source": [
    "* Temos:\n",
    "    - 608 pessoas viajaram sozinhas, 210 sobreviveram\n",
    "    - 209 pessoas viajaram com pelo menos uma pessoa, 112 sobraviveram"
   ]
  },
  {
   "cell_type": "code",
   "execution_count": 67,
   "id": "6def0532",
   "metadata": {},
   "outputs": [
    {
     "data": {
      "text/html": [
       "<div>\n",
       "<style scoped>\n",
       "    .dataframe tbody tr th:only-of-type {\n",
       "        vertical-align: middle;\n",
       "    }\n",
       "\n",
       "    .dataframe tbody tr th {\n",
       "        vertical-align: top;\n",
       "    }\n",
       "\n",
       "    .dataframe thead th {\n",
       "        text-align: right;\n",
       "    }\n",
       "</style>\n",
       "<table border=\"1\" class=\"dataframe\">\n",
       "  <thead>\n",
       "    <tr style=\"text-align: right;\">\n",
       "      <th></th>\n",
       "      <th>SibSp</th>\n",
       "      <th>Sobreviventes</th>\n",
       "      <th>Total</th>\n",
       "      <th>taxa_sobrevivencia</th>\n",
       "    </tr>\n",
       "  </thead>\n",
       "  <tbody>\n",
       "    <tr>\n",
       "      <th>0</th>\n",
       "      <td>0</td>\n",
       "      <td>210</td>\n",
       "      <td>608</td>\n",
       "      <td>0.345395</td>\n",
       "    </tr>\n",
       "    <tr>\n",
       "      <th>1</th>\n",
       "      <td>1</td>\n",
       "      <td>112</td>\n",
       "      <td>209</td>\n",
       "      <td>0.535885</td>\n",
       "    </tr>\n",
       "    <tr>\n",
       "      <th>2</th>\n",
       "      <td>2</td>\n",
       "      <td>13</td>\n",
       "      <td>28</td>\n",
       "      <td>0.464286</td>\n",
       "    </tr>\n",
       "    <tr>\n",
       "      <th>3</th>\n",
       "      <td>3</td>\n",
       "      <td>4</td>\n",
       "      <td>16</td>\n",
       "      <td>0.250000</td>\n",
       "    </tr>\n",
       "    <tr>\n",
       "      <th>4</th>\n",
       "      <td>4</td>\n",
       "      <td>3</td>\n",
       "      <td>18</td>\n",
       "      <td>0.166667</td>\n",
       "    </tr>\n",
       "    <tr>\n",
       "      <th>5</th>\n",
       "      <td>5</td>\n",
       "      <td>0</td>\n",
       "      <td>5</td>\n",
       "      <td>0.000000</td>\n",
       "    </tr>\n",
       "    <tr>\n",
       "      <th>6</th>\n",
       "      <td>8</td>\n",
       "      <td>0</td>\n",
       "      <td>7</td>\n",
       "      <td>0.000000</td>\n",
       "    </tr>\n",
       "  </tbody>\n",
       "</table>\n",
       "</div>"
      ],
      "text/plain": [
       "   SibSp  Sobreviventes  Total  taxa_sobrevivencia\n",
       "0      0            210    608            0.345395\n",
       "1      1            112    209            0.535885\n",
       "2      2             13     28            0.464286\n",
       "3      3              4     16            0.250000\n",
       "4      4              3     18            0.166667\n",
       "5      5              0      5            0.000000\n",
       "6      8              0      7            0.000000"
      ]
     },
     "execution_count": 67,
     "metadata": {},
     "output_type": "execute_result"
    }
   ],
   "source": [
    "SibSp_df = treino.groupby('SibSp')['Survived'].agg(['sum', 'count', 'mean']).reset_index()\n",
    "SibSp_df.columns = ['SibSp', 'Sobreviventes', 'Total', 'taxa_sobrevivencia']\n",
    "\n",
    "SibSp_df"
   ]
  },
  {
   "cell_type": "code",
   "execution_count": 68,
   "id": "119bacdc",
   "metadata": {},
   "outputs": [
    {
     "data": {
      "text/html": [
       "<div>\n",
       "<style scoped>\n",
       "    .dataframe tbody tr th:only-of-type {\n",
       "        vertical-align: middle;\n",
       "    }\n",
       "\n",
       "    .dataframe tbody tr th {\n",
       "        vertical-align: top;\n",
       "    }\n",
       "\n",
       "    .dataframe thead th {\n",
       "        text-align: right;\n",
       "    }\n",
       "</style>\n",
       "<table border=\"1\" class=\"dataframe\">\n",
       "  <thead>\n",
       "    <tr style=\"text-align: right;\">\n",
       "      <th></th>\n",
       "      <th>Parch</th>\n",
       "      <th>Sobreviventes</th>\n",
       "      <th>Total</th>\n",
       "      <th>taxa_sobrevivencia</th>\n",
       "    </tr>\n",
       "  </thead>\n",
       "  <tbody>\n",
       "    <tr>\n",
       "      <th>0</th>\n",
       "      <td>0</td>\n",
       "      <td>233</td>\n",
       "      <td>678</td>\n",
       "      <td>0.343658</td>\n",
       "    </tr>\n",
       "    <tr>\n",
       "      <th>1</th>\n",
       "      <td>1</td>\n",
       "      <td>65</td>\n",
       "      <td>118</td>\n",
       "      <td>0.550847</td>\n",
       "    </tr>\n",
       "    <tr>\n",
       "      <th>2</th>\n",
       "      <td>2</td>\n",
       "      <td>40</td>\n",
       "      <td>80</td>\n",
       "      <td>0.500000</td>\n",
       "    </tr>\n",
       "    <tr>\n",
       "      <th>3</th>\n",
       "      <td>3</td>\n",
       "      <td>3</td>\n",
       "      <td>5</td>\n",
       "      <td>0.600000</td>\n",
       "    </tr>\n",
       "    <tr>\n",
       "      <th>4</th>\n",
       "      <td>4</td>\n",
       "      <td>0</td>\n",
       "      <td>4</td>\n",
       "      <td>0.000000</td>\n",
       "    </tr>\n",
       "    <tr>\n",
       "      <th>5</th>\n",
       "      <td>5</td>\n",
       "      <td>1</td>\n",
       "      <td>5</td>\n",
       "      <td>0.200000</td>\n",
       "    </tr>\n",
       "    <tr>\n",
       "      <th>6</th>\n",
       "      <td>6</td>\n",
       "      <td>0</td>\n",
       "      <td>1</td>\n",
       "      <td>0.000000</td>\n",
       "    </tr>\n",
       "  </tbody>\n",
       "</table>\n",
       "</div>"
      ],
      "text/plain": [
       "   Parch  Sobreviventes  Total  taxa_sobrevivencia\n",
       "0      0            233    678            0.343658\n",
       "1      1             65    118            0.550847\n",
       "2      2             40     80            0.500000\n",
       "3      3              3      5            0.600000\n",
       "4      4              0      4            0.000000\n",
       "5      5              1      5            0.200000\n",
       "6      6              0      1            0.000000"
      ]
     },
     "execution_count": 68,
     "metadata": {},
     "output_type": "execute_result"
    }
   ],
   "source": [
    "# Verificando a taxa de sobrevivência para Parch\n",
    "\n",
    "Parch_df = treino.groupby('Parch')['Survived'].agg(['sum', 'count', 'mean']).reset_index()\n",
    "Parch_df.columns = ['Parch', 'Sobreviventes', 'Total', 'taxa_sobrevivencia']\n",
    "\n",
    "Parch_df"
   ]
  },
  {
   "cell_type": "code",
   "execution_count": 69,
   "id": "5c92781f",
   "metadata": {},
   "outputs": [
    {
     "data": {
      "image/png": "[encoded data removed]",
      "text/plain": [
       "<Figure size 1000x600 with 4 Axes>"
      ]
     },
     "metadata": {},
     "output_type": "display_data"
    }
   ],
   "source": [
    "fig, ax = plt.subplots(ncols=2, nrows=2, figsize=(10,6))\n",
    "\n",
    "ax[0,0].plot(SibSp_df.SibSp, SibSp_df.Sobreviventes)\n",
    "ax[0,0].plot(SibSp_df.SibSp, SibSp_df.Total)\n",
    "ax[0,0].set_title('Sobrevivente por nº de irmãos/cônjuges', fontsize=10)\n",
    "\n",
    "labels1 = ax[0,1].bar(SibSp_df.SibSp, SibSp_df.taxa_sobrevivencia)\n",
    "ax[0,1].bar_label(labels1, fmt='%.02f')\n",
    "ax[0,1].set(ylim=(0, 0.6))\n",
    "ax[0,1].set_title('Taxa de Sobrevivência por nº de irmãos/cônjuges', fontsize=10)\n",
    "\n",
    "ax[1,0].plot(Parch_df.Parch, Parch_df.Sobreviventes)\n",
    "ax[1,0].plot(Parch_df.Parch, Parch_df.Total)\n",
    "ax[1,0].set_title('Sobrevivente por nº de pais/filhos', fontsize=10)\n",
    "\n",
    "labels2 = ax[1,1].bar(Parch_df.Parch, Parch_df.taxa_sobrevivencia)\n",
    "ax[0,1].bar_label(labels1, fmt='%.02f')\n",
    "ax[0,1].set(ylim=(0, 0.7))\n",
    "ax[0,1].set_title('Taxa de Sobrevivência por nº de pais/filhos', fontsize=10)\n",
    "\n",
    "plt.subplots_adjust(hspace=0.5)\n",
    "\n",
    "plt.show()"
   ]
  },
  {
   "cell_type": "markdown",
   "id": "6614cb0d",
   "metadata": {},
   "source": [
    "* Passageiros viajando sozinho tem uma menor taxa de sobrevivência\n",
    "    - É interessante identificar quais dos passageiros está viajando sozinho para atribuir ao modelo"
   ]
  },
  {
   "cell_type": "code",
   "execution_count": 71,
   "id": "49582ca0",
   "metadata": {},
   "outputs": [],
   "source": [
    "def sozinho(a, b):\n",
    "    if (a == 0 and b == 0):\n",
    "        return 1\n",
    "    else:\n",
    "        return 0"
   ]
  },
  {
   "cell_type": "code",
   "execution_count": 73,
   "id": "187724fb",
   "metadata": {},
   "outputs": [],
   "source": [
    "treino['Sozinho'] = treino.apply(lambda x: sozinho(x.SibSp, x.Parch), axis=1)"
   ]
  },
  {
   "cell_type": "code",
   "execution_count": 75,
   "id": "f38fb55a",
   "metadata": {},
   "outputs": [
    {
     "data": {
      "text/html": [
       "<div>\n",
       "<style scoped>\n",
       "    .dataframe tbody tr th:only-of-type {\n",
       "        vertical-align: middle;\n",
       "    }\n",
       "\n",
       "    .dataframe tbody tr th {\n",
       "        vertical-align: top;\n",
       "    }\n",
       "\n",
       "    .dataframe thead th {\n",
       "        text-align: right;\n",
       "    }\n",
       "</style>\n",
       "<table border=\"1\" class=\"dataframe\">\n",
       "  <thead>\n",
       "    <tr style=\"text-align: right;\">\n",
       "      <th></th>\n",
       "      <th>SibSp</th>\n",
       "      <th>Parch</th>\n",
       "    </tr>\n",
       "    <tr>\n",
       "      <th>Sozinho</th>\n",
       "      <th></th>\n",
       "      <th></th>\n",
       "    </tr>\n",
       "  </thead>\n",
       "  <tbody>\n",
       "    <tr>\n",
       "      <th>0</th>\n",
       "      <td>8</td>\n",
       "      <td>6</td>\n",
       "    </tr>\n",
       "    <tr>\n",
       "      <th>1</th>\n",
       "      <td>0</td>\n",
       "      <td>0</td>\n",
       "    </tr>\n",
       "  </tbody>\n",
       "</table>\n",
       "</div>"
      ],
      "text/plain": [
       "         SibSp  Parch\n",
       "Sozinho              \n",
       "0            8      6\n",
       "1            0      0"
      ]
     },
     "execution_count": 75,
     "metadata": {},
     "output_type": "execute_result"
    }
   ],
   "source": [
    "treino.groupby('Sozinho')[['SibSp', 'Parch']].max()"
   ]
  },
  {
   "cell_type": "code",
   "execution_count": 76,
   "id": "3f4de866",
   "metadata": {},
   "outputs": [],
   "source": [
    "teste['Sozinho'] = teste.apply(lambda x: sozinho(x.SibSp, x.Parch), axis=1)"
   ]
  },
  {
   "cell_type": "markdown",
   "id": "aa41f4d3",
   "metadata": {},
   "source": [
    "* Agora, criando uma coluna para passageiros com familiares a bordo"
   ]
  },
  {
   "cell_type": "code",
   "execution_count": 77,
   "id": "348a6d37",
   "metadata": {},
   "outputs": [],
   "source": [
    "treino['Familiares'] = treino.SibSp + treino.Parch"
   ]
  },
  {
   "cell_type": "code",
   "execution_count": 78,
   "id": "655e3692",
   "metadata": {},
   "outputs": [],
   "source": [
    "teste['Familiares'] = teste.SibSp + teste.Parch"
   ]
  },
  {
   "cell_type": "code",
   "execution_count": 79,
   "id": "19d83d00",
   "metadata": {},
   "outputs": [
    {
     "data": {
      "text/html": [
       "<div>\n",
       "<style scoped>\n",
       "    .dataframe tbody tr th:only-of-type {\n",
       "        vertical-align: middle;\n",
       "    }\n",
       "\n",
       "    .dataframe tbody tr th {\n",
       "        vertical-align: top;\n",
       "    }\n",
       "\n",
       "    .dataframe thead th {\n",
       "        text-align: right;\n",
       "    }\n",
       "</style>\n",
       "<table border=\"1\" class=\"dataframe\">\n",
       "  <thead>\n",
       "    <tr style=\"text-align: right;\">\n",
       "      <th></th>\n",
       "      <th>Familiares</th>\n",
       "      <th>sum</th>\n",
       "      <th>count</th>\n",
       "      <th>mean</th>\n",
       "    </tr>\n",
       "  </thead>\n",
       "  <tbody>\n",
       "    <tr>\n",
       "      <th>0</th>\n",
       "      <td>0</td>\n",
       "      <td>163</td>\n",
       "      <td>537</td>\n",
       "      <td>0.303538</td>\n",
       "    </tr>\n",
       "    <tr>\n",
       "      <th>1</th>\n",
       "      <td>1</td>\n",
       "      <td>89</td>\n",
       "      <td>161</td>\n",
       "      <td>0.552795</td>\n",
       "    </tr>\n",
       "    <tr>\n",
       "      <th>2</th>\n",
       "      <td>2</td>\n",
       "      <td>59</td>\n",
       "      <td>102</td>\n",
       "      <td>0.578431</td>\n",
       "    </tr>\n",
       "    <tr>\n",
       "      <th>3</th>\n",
       "      <td>3</td>\n",
       "      <td>21</td>\n",
       "      <td>29</td>\n",
       "      <td>0.724138</td>\n",
       "    </tr>\n",
       "    <tr>\n",
       "      <th>4</th>\n",
       "      <td>4</td>\n",
       "      <td>3</td>\n",
       "      <td>15</td>\n",
       "      <td>0.200000</td>\n",
       "    </tr>\n",
       "    <tr>\n",
       "      <th>5</th>\n",
       "      <td>5</td>\n",
       "      <td>3</td>\n",
       "      <td>22</td>\n",
       "      <td>0.136364</td>\n",
       "    </tr>\n",
       "    <tr>\n",
       "      <th>6</th>\n",
       "      <td>6</td>\n",
       "      <td>4</td>\n",
       "      <td>12</td>\n",
       "      <td>0.333333</td>\n",
       "    </tr>\n",
       "    <tr>\n",
       "      <th>7</th>\n",
       "      <td>7</td>\n",
       "      <td>0</td>\n",
       "      <td>6</td>\n",
       "      <td>0.000000</td>\n",
       "    </tr>\n",
       "    <tr>\n",
       "      <th>8</th>\n",
       "      <td>10</td>\n",
       "      <td>0</td>\n",
       "      <td>7</td>\n",
       "      <td>0.000000</td>\n",
       "    </tr>\n",
       "  </tbody>\n",
       "</table>\n",
       "</div>"
      ],
      "text/plain": [
       "   Familiares  sum  count      mean\n",
       "0           0  163    537  0.303538\n",
       "1           1   89    161  0.552795\n",
       "2           2   59    102  0.578431\n",
       "3           3   21     29  0.724138\n",
       "4           4    3     15  0.200000\n",
       "5           5    3     22  0.136364\n",
       "6           6    4     12  0.333333\n",
       "7           7    0      6  0.000000\n",
       "8          10    0      7  0.000000"
      ]
     },
     "execution_count": 79,
     "metadata": {},
     "output_type": "execute_result"
    }
   ],
   "source": [
    "treino.groupby('Familiares')['Survived'].agg(['sum', 'count', 'mean']).reset_index()"
   ]
  },
  {
   "cell_type": "code",
   "execution_count": 82,
   "id": "06c1a2a6",
   "metadata": {},
   "outputs": [],
   "source": [
    "Familiares_df = treino.groupby('Familiares')['Survived'].agg(['sum', 'count', 'mean']).reset_index()\n",
    "Familiares_df = treino.groupby('Familiares')['Survived'].agg(['sum', 'count', 'mean']).reset_index()\n",
    "Familiares_df.columns = ['Familiares', 'Sobreviventes', 'Total', 'taxa_sobrevivencia']"
   ]
  },
  {
   "cell_type": "code",
   "execution_count": 83,
   "id": "9ebeadce",
   "metadata": {},
   "outputs": [
    {
     "data": {
      "text/html": [
       "<div>\n",
       "<style scoped>\n",
       "    .dataframe tbody tr th:only-of-type {\n",
       "        vertical-align: middle;\n",
       "    }\n",
       "\n",
       "    .dataframe tbody tr th {\n",
       "        vertical-align: top;\n",
       "    }\n",
       "\n",
       "    .dataframe thead th {\n",
       "        text-align: right;\n",
       "    }\n",
       "</style>\n",
       "<table border=\"1\" class=\"dataframe\">\n",
       "  <thead>\n",
       "    <tr style=\"text-align: right;\">\n",
       "      <th></th>\n",
       "      <th>Familiares</th>\n",
       "      <th>Sobreviventes</th>\n",
       "      <th>Total</th>\n",
       "      <th>taxa_sobrevivencia</th>\n",
       "    </tr>\n",
       "  </thead>\n",
       "  <tbody>\n",
       "    <tr>\n",
       "      <th>0</th>\n",
       "      <td>0</td>\n",
       "      <td>163</td>\n",
       "      <td>537</td>\n",
       "      <td>0.303538</td>\n",
       "    </tr>\n",
       "    <tr>\n",
       "      <th>1</th>\n",
       "      <td>1</td>\n",
       "      <td>89</td>\n",
       "      <td>161</td>\n",
       "      <td>0.552795</td>\n",
       "    </tr>\n",
       "    <tr>\n",
       "      <th>2</th>\n",
       "      <td>2</td>\n",
       "      <td>59</td>\n",
       "      <td>102</td>\n",
       "      <td>0.578431</td>\n",
       "    </tr>\n",
       "    <tr>\n",
       "      <th>3</th>\n",
       "      <td>3</td>\n",
       "      <td>21</td>\n",
       "      <td>29</td>\n",
       "      <td>0.724138</td>\n",
       "    </tr>\n",
       "    <tr>\n",
       "      <th>4</th>\n",
       "      <td>4</td>\n",
       "      <td>3</td>\n",
       "      <td>15</td>\n",
       "      <td>0.200000</td>\n",
       "    </tr>\n",
       "    <tr>\n",
       "      <th>5</th>\n",
       "      <td>5</td>\n",
       "      <td>3</td>\n",
       "      <td>22</td>\n",
       "      <td>0.136364</td>\n",
       "    </tr>\n",
       "    <tr>\n",
       "      <th>6</th>\n",
       "      <td>6</td>\n",
       "      <td>4</td>\n",
       "      <td>12</td>\n",
       "      <td>0.333333</td>\n",
       "    </tr>\n",
       "    <tr>\n",
       "      <th>7</th>\n",
       "      <td>7</td>\n",
       "      <td>0</td>\n",
       "      <td>6</td>\n",
       "      <td>0.000000</td>\n",
       "    </tr>\n",
       "    <tr>\n",
       "      <th>8</th>\n",
       "      <td>10</td>\n",
       "      <td>0</td>\n",
       "      <td>7</td>\n",
       "      <td>0.000000</td>\n",
       "    </tr>\n",
       "  </tbody>\n",
       "</table>\n",
       "</div>"
      ],
      "text/plain": [
       "   Familiares  Sobreviventes  Total  taxa_sobrevivencia\n",
       "0           0            163    537            0.303538\n",
       "1           1             89    161            0.552795\n",
       "2           2             59    102            0.578431\n",
       "3           3             21     29            0.724138\n",
       "4           4              3     15            0.200000\n",
       "5           5              3     22            0.136364\n",
       "6           6              4     12            0.333333\n",
       "7           7              0      6            0.000000\n",
       "8          10              0      7            0.000000"
      ]
     },
     "execution_count": 83,
     "metadata": {},
     "output_type": "execute_result"
    }
   ],
   "source": [
    "Familiares_df"
   ]
  },
  {
   "cell_type": "code",
   "execution_count": 84,
   "id": "9215d805",
   "metadata": {},
   "outputs": [
    {
     "data": {
      "image/png": "[encoded data removed]",
      "text/plain": [
       "<Figure size 1000x300 with 2 Axes>"
      ]
     },
     "metadata": {},
     "output_type": "display_data"
    }
   ],
   "source": [
    "fig, ax = plt.subplots(ncols=2, figsize=(10,3))\n",
    "\n",
    "ax[0].plot(Familiares_df.Familiares, Familiares_df.Sobreviventes)\n",
    "ax[0].plot(Familiares_df.Familiares, Familiares_df.Total)\n",
    "ax[0].set_title('Sobrevivente por nº de Familiares', fontsize=10)\n",
    "\n",
    "labels1 = ax[1].bar(Familiares_df.Familiares, Familiares_df.taxa_sobrevivencia)\n",
    "ax[1].bar_label(labels1, fmt='%.02f')\n",
    "ax[1].set(ylim=(0, 0.8))\n",
    "ax[1].set_title('Taxa de Sobrevivência por nº de Familiares', fontsize=10)\n",
    "\n",
    "plt.show()"
   ]
  },
  {
   "cell_type": "markdown",
   "id": "4a7f5886",
   "metadata": {},
   "source": [
    "* O que podemos analisar deste gráfico?\n",
    "    - Pessoas que viajam em família, entre 1 a 3 pessoas, tem uma maior taxa de sobrevivência"
   ]
  },
  {
   "cell_type": "markdown",
   "id": "6e2c060c",
   "metadata": {},
   "source": [
    "#### Usando esta nova base de dados no modelo"
   ]
  },
  {
   "cell_type": "code",
   "execution_count": 85,
   "id": "0f68c524",
   "metadata": {},
   "outputs": [
    {
     "data": {
      "text/html": [
       "<div>\n",
       "<style scoped>\n",
       "    .dataframe tbody tr th:only-of-type {\n",
       "        vertical-align: middle;\n",
       "    }\n",
       "\n",
       "    .dataframe tbody tr th {\n",
       "        vertical-align: top;\n",
       "    }\n",
       "\n",
       "    .dataframe thead th {\n",
       "        text-align: right;\n",
       "    }\n",
       "</style>\n",
       "<table border=\"1\" class=\"dataframe\">\n",
       "  <thead>\n",
       "    <tr style=\"text-align: right;\">\n",
       "      <th></th>\n",
       "      <th>PassengerId</th>\n",
       "      <th>Survived</th>\n",
       "      <th>Pclass</th>\n",
       "      <th>Age</th>\n",
       "      <th>SibSp</th>\n",
       "      <th>Parch</th>\n",
       "      <th>Fare</th>\n",
       "      <th>MaleCheck</th>\n",
       "      <th>Embarked_C</th>\n",
       "      <th>Embarked_Q</th>\n",
       "      <th>Embarked_S</th>\n",
       "      <th>Sozinho</th>\n",
       "      <th>Familiares</th>\n",
       "    </tr>\n",
       "  </thead>\n",
       "  <tbody>\n",
       "    <tr>\n",
       "      <th>0</th>\n",
       "      <td>1</td>\n",
       "      <td>0</td>\n",
       "      <td>3</td>\n",
       "      <td>-0.592240</td>\n",
       "      <td>1</td>\n",
       "      <td>0</td>\n",
       "      <td>-0.312011</td>\n",
       "      <td>1</td>\n",
       "      <td>0</td>\n",
       "      <td>0</td>\n",
       "      <td>1</td>\n",
       "      <td>0</td>\n",
       "      <td>1</td>\n",
       "    </tr>\n",
       "    <tr>\n",
       "      <th>1</th>\n",
       "      <td>2</td>\n",
       "      <td>1</td>\n",
       "      <td>1</td>\n",
       "      <td>0.638529</td>\n",
       "      <td>1</td>\n",
       "      <td>0</td>\n",
       "      <td>2.461242</td>\n",
       "      <td>0</td>\n",
       "      <td>1</td>\n",
       "      <td>0</td>\n",
       "      <td>0</td>\n",
       "      <td>0</td>\n",
       "      <td>1</td>\n",
       "    </tr>\n",
       "    <tr>\n",
       "      <th>2</th>\n",
       "      <td>3</td>\n",
       "      <td>1</td>\n",
       "      <td>3</td>\n",
       "      <td>-0.284548</td>\n",
       "      <td>0</td>\n",
       "      <td>0</td>\n",
       "      <td>-0.282777</td>\n",
       "      <td>0</td>\n",
       "      <td>0</td>\n",
       "      <td>0</td>\n",
       "      <td>1</td>\n",
       "      <td>1</td>\n",
       "      <td>0</td>\n",
       "    </tr>\n",
       "  </tbody>\n",
       "</table>\n",
       "</div>"
      ],
      "text/plain": [
       "   PassengerId  Survived  Pclass       Age  SibSp  Parch      Fare  MaleCheck  \\\n",
       "0            1         0       3 -0.592240      1      0 -0.312011          1   \n",
       "1            2         1       1  0.638529      1      0  2.461242          0   \n",
       "2            3         1       3 -0.284548      0      0 -0.282777          0   \n",
       "\n",
       "   Embarked_C  Embarked_Q  Embarked_S  Sozinho  Familiares  \n",
       "0           0           0           1        0           1  \n",
       "1           1           0           0        0           1  \n",
       "2           0           0           1        1           0  "
      ]
     },
     "execution_count": 85,
     "metadata": {},
     "output_type": "execute_result"
    }
   ],
   "source": [
    "treino.head(3)"
   ]
  },
  {
   "cell_type": "code",
   "execution_count": 86,
   "id": "be4e246c",
   "metadata": {},
   "outputs": [
    {
     "data": {
      "text/html": [
       "<div>\n",
       "<style scoped>\n",
       "    .dataframe tbody tr th:only-of-type {\n",
       "        vertical-align: middle;\n",
       "    }\n",
       "\n",
       "    .dataframe tbody tr th {\n",
       "        vertical-align: top;\n",
       "    }\n",
       "\n",
       "    .dataframe thead th {\n",
       "        text-align: right;\n",
       "    }\n",
       "</style>\n",
       "<table border=\"1\" class=\"dataframe\">\n",
       "  <thead>\n",
       "    <tr style=\"text-align: right;\">\n",
       "      <th></th>\n",
       "      <th>PassengerId</th>\n",
       "      <th>Pclass</th>\n",
       "      <th>Age</th>\n",
       "      <th>SibSp</th>\n",
       "      <th>Parch</th>\n",
       "      <th>Fare</th>\n",
       "      <th>MaleCheck</th>\n",
       "      <th>Embarked_C</th>\n",
       "      <th>Embarked_Q</th>\n",
       "      <th>Embarked_S</th>\n",
       "      <th>Sozinho</th>\n",
       "      <th>Familiares</th>\n",
       "    </tr>\n",
       "  </thead>\n",
       "  <tbody>\n",
       "    <tr>\n",
       "      <th>0</th>\n",
       "      <td>892</td>\n",
       "      <td>3</td>\n",
       "      <td>0.331562</td>\n",
       "      <td>0</td>\n",
       "      <td>0</td>\n",
       "      <td>-0.280670</td>\n",
       "      <td>1</td>\n",
       "      <td>0</td>\n",
       "      <td>1</td>\n",
       "      <td>0</td>\n",
       "      <td>1</td>\n",
       "      <td>0</td>\n",
       "    </tr>\n",
       "    <tr>\n",
       "      <th>1</th>\n",
       "      <td>893</td>\n",
       "      <td>3</td>\n",
       "      <td>1.311954</td>\n",
       "      <td>1</td>\n",
       "      <td>0</td>\n",
       "      <td>-0.315800</td>\n",
       "      <td>0</td>\n",
       "      <td>0</td>\n",
       "      <td>0</td>\n",
       "      <td>1</td>\n",
       "      <td>0</td>\n",
       "      <td>1</td>\n",
       "    </tr>\n",
       "    <tr>\n",
       "      <th>2</th>\n",
       "      <td>894</td>\n",
       "      <td>2</td>\n",
       "      <td>2.488424</td>\n",
       "      <td>0</td>\n",
       "      <td>0</td>\n",
       "      <td>-0.201943</td>\n",
       "      <td>1</td>\n",
       "      <td>0</td>\n",
       "      <td>1</td>\n",
       "      <td>0</td>\n",
       "      <td>1</td>\n",
       "      <td>0</td>\n",
       "    </tr>\n",
       "  </tbody>\n",
       "</table>\n",
       "</div>"
      ],
      "text/plain": [
       "   PassengerId  Pclass       Age  SibSp  Parch      Fare  MaleCheck  \\\n",
       "0          892       3  0.331562      0      0 -0.280670          1   \n",
       "1          893       3  1.311954      1      0 -0.315800          0   \n",
       "2          894       2  2.488424      0      0 -0.201943          1   \n",
       "\n",
       "   Embarked_C  Embarked_Q  Embarked_S  Sozinho  Familiares  \n",
       "0           0           1           0        1           0  \n",
       "1           0           0           1        0           1  \n",
       "2           0           1           0        1           0  "
      ]
     },
     "execution_count": 86,
     "metadata": {},
     "output_type": "execute_result"
    }
   ],
   "source": [
    "teste.head(3)"
   ]
  },
  {
   "cell_type": "markdown",
   "id": "d460f019",
   "metadata": {},
   "source": [
    "* Aplicando nos modelos"
   ]
  },
  {
   "cell_type": "code",
   "execution_count": 87,
   "id": "07f81d48",
   "metadata": {},
   "outputs": [],
   "source": [
    "X = treino.drop(['PassengerId', 'Survived'], axis=1)\n",
    "y = treino.Survived\n",
    "\n",
    "X_train, X_val, y_train, y_val = train_test_split(X, y, test_size=0.33, random_state=42)"
   ]
  },
  {
   "cell_type": "markdown",
   "id": "093c78c4",
   "metadata": {},
   "source": [
    "* Árvore de Classificação"
   ]
  },
  {
   "cell_type": "code",
   "execution_count": 88,
   "id": "ddce99f8",
   "metadata": {},
   "outputs": [
    {
     "data": {
      "text/plain": [
       "0.735593220338983"
      ]
     },
     "execution_count": 88,
     "metadata": {},
     "output_type": "execute_result"
    }
   ],
   "source": [
    "clf_ac = tree.DecisionTreeClassifier(random_state=42)\n",
    "clf_ac = clf_ac.fit(X_train, y_train)\n",
    "\n",
    "y_pred_ac = clf_ac.predict(X_val)\n",
    "\n",
    "as_ac = accuracy_score(y_val, y_pred_ac)\n",
    "\n",
    "as_ac"
   ]
  }
 ],
 "metadata": {
  "kernelspec": {
   "display_name": "Python 3",
   "language": "python",
   "name": "python3"
  },
  "language_info": {
   "codemirror_mode": {
    "name": "ipython",
    "version": 3
   },
   "file_extension": ".py",
   "mimetype": "text/x-python",
   "name": "python",
   "nbconvert_exporter": "python",
   "pygments_lexer": "ipython3",
   "version": "3.11.0"
  }
 },
 "nbformat": 4,
 "nbformat_minor": 5
}
